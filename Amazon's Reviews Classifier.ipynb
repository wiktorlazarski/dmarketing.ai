{
 "cells": [
  {
   "cell_type": "markdown",
   "metadata": {},
   "source": [
    "# dmarketing.ai\n",
    "\n",
    "### Deep Learning\n",
    "\n",
    "### Project: Build a reviews' classifier based on Amazon's reviews dataset\n",
    "\n",
    "<font color=red>__*Provide project's description here*__</font>"
   ]
  },
  {
   "cell_type": "markdown",
   "metadata": {},
   "source": [
    "### Step 0: Load The Data "
   ]
  },
  {
   "cell_type": "code",
   "execution_count": 1,
   "metadata": {},
   "outputs": [],
   "source": [
    "import os\n",
    "\n",
    "DATA_FOLDER_PATH = \"./data\"\n",
    "TRAIN_DATA_PATH = os.path.join(DATA_FOLDER_PATH, 'train.csv')\n",
    "TEST_DATA_PATH = os.path.join(DATA_FOLDER_PATH, 'test.csv')"
   ]
  },
  {
   "cell_type": "code",
   "execution_count": 2,
   "metadata": {},
   "outputs": [],
   "source": [
    "import csv\n",
    "\n",
    "RATING_IDX = 0\n",
    "TITLE_IDX = 1\n",
    "REVIEW_IDX = 2\n",
    "\n",
    "class ReviewDataReader:\n",
    "    '''Class used to read reviews with it's ratings.'''\n",
    "    \n",
    "    def flow_from_csv(self, path=None, batch_size=1):\n",
    "        '''Produces generator that iterates through csv file containg data.\n",
    "                Parameters:\n",
    "                path (str): file system path to a csv file with data samples.\n",
    "                batch_size(int): number of samples read in one next() function call on returned generator.\n",
    "                \n",
    "                Returns:\n",
    "                generator: generator that returns tuple(list_of_reviews, list_of_corresponding_ratings)\n",
    "        '''\n",
    "        with open(path, 'r', errors='ignore') as csv_file:\n",
    "            reader = csv.reader(csv_file)\n",
    "            \n",
    "            while True:\n",
    "                reviews = []\n",
    "                labels = []\n",
    "                \n",
    "                for _ in range(batch_size):\n",
    "                    row = next(reader)\n",
    "                    reviews.append(row[REVIEW_IDX])\n",
    "                    labels.append(row[RATING_IDX])\n",
    "                \n",
    "                yield (reviews, labels)"
   ]
  },
  {
   "cell_type": "code",
   "execution_count": 3,
   "metadata": {},
   "outputs": [],
   "source": [
    "class TitleDataReader:\n",
    "    '''Class used to read titles of reviews with it's ratings.'''\n",
    "    \n",
    "    def flow_from_csv(self, path=None, batch_size=1):\n",
    "        '''Produces generator that iterates through csv file containg data.\n",
    "                Parameters:\n",
    "                path (str): file system path to a csv file with data samples.\n",
    "                batch_size(int): number of samples read in one next() function call on returned generator.\n",
    "                \n",
    "                Returns:\n",
    "                generator: generator that returns tuple(list_of_titles, list_of_corresponding_ratings)\n",
    "        '''\n",
    "        with open(path, 'r', errors='ignore') as csv_file:\n",
    "            reader = csv.reader(csv_file)\n",
    "            \n",
    "            while True:\n",
    "                reviews = []\n",
    "                labels = []\n",
    "                \n",
    "                for _ in range(batch_size):\n",
    "                    row = next(reader)\n",
    "                    reviews.append(row[TITLE_IDX])\n",
    "                    labels.append(row[RATING_IDX])\n",
    "                \n",
    "                yield (reviews, labels)"
   ]
  },
  {
   "cell_type": "markdown",
   "metadata": {},
   "source": [
    "### Step 1: Dataset Summary & Explonation\n",
    "\n",
    "<font color=red>__*Feature descriptions*__</font>"
   ]
  },
  {
   "cell_type": "code",
   "execution_count": null,
   "metadata": {},
   "outputs": [],
   "source": [
    "ratings = set()\n",
    "title_maxlen = 0\n",
    "review_maxlen = 0\n",
    "\n",
    "review_reader = ReviewDataReader()\n",
    "title_reader = TitleDataReader()\n",
    "\n",
    "review_gen = review_reader.flow_from_csv(TRAIN_DATA_PATH)\n",
    "title_gen = title_reader.flow_from_csv(TRAIN_DATA_PATH)\n",
    "\n",
    "try:\n",
    "    while True:\n",
    "        # Rating classes extraction\n",
    "        review = next(review_gen)\n",
    "        ratings.add(review[-1][0])\n",
    "\n",
    "        # Maximum length of a review used for padding reviews\n",
    "        review = review[0][0]\n",
    "        if len(review) > review_maxlen:\n",
    "                 review_maxlen = len(review)\n",
    "\n",
    "        # Maximum length of a title used for padding titles\n",
    "        title = next(title_gen)[0][0]\n",
    "        if len(title) > title_maxlen:\n",
    "            title_maxlen = len(title)     \n",
    "except:\n",
    "        pass"
   ]
  },
  {
   "cell_type": "code",
   "execution_count": null,
   "metadata": {},
   "outputs": [],
   "source": [
    "print(\"Ratings: {}\\nTitle max length: {}\\nReview max length: {}\".format(ratings, title_maxlen, review_maxlen))"
   ]
  },
  {
   "cell_type": "markdown",
   "metadata": {},
   "source": [
    "### Step 2: Design and Validate a Model Architecture \n",
    "\n",
    "<font color=red>__*Neural Net architecture descriptions tested*__</font>"
   ]
  },
  {
   "cell_type": "code",
   "execution_count": null,
   "metadata": {},
   "outputs": [],
   "source": [
    "def build_and_evaluate():\n",
    "    pass"
   ]
  },
  {
   "cell_type": "markdown",
   "metadata": {},
   "source": [
    "### Step 3: Test a Model on New Reviews"
   ]
  },
  {
   "cell_type": "code",
   "execution_count": null,
   "metadata": {},
   "outputs": [],
   "source": [
    "def test():\n",
    "    pass"
   ]
  },
  {
   "cell_type": "markdown",
   "metadata": {},
   "source": [
    "### Step 4: Summary\n",
    "\n",
    "<font color=red>__*Final conclusions*__</font>"
   ]
  }
 ],
 "metadata": {
  "kernelspec": {
   "display_name": "Python 3",
   "language": "python",
   "name": "python3"
  },
  "language_info": {
   "codemirror_mode": {
    "name": "ipython",
    "version": 3
   },
   "file_extension": ".py",
   "mimetype": "text/x-python",
   "name": "python",
   "nbconvert_exporter": "python",
   "pygments_lexer": "ipython3",
   "version": "3.7.5"
  }
 },
 "nbformat": 4,
 "nbformat_minor": 2
}
