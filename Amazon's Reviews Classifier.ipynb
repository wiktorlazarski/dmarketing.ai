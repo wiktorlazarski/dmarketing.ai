{
 "cells": [
  {
   "cell_type": "markdown",
   "metadata": {},
   "source": [
    "# dmarketing.ai\n",
    "\n",
    "### Deep Learning\n",
    "\n",
    "### Project: Build a reviews' classifier based on Amazon's reviews dataset\n",
    "\n",
    "<font color=red>__*Provide project's description here*__</font>"
   ]
  },
  {
   "cell_type": "markdown",
   "metadata": {},
   "source": [
    "### Step 0: Load The Data "
   ]
  },
  {
   "cell_type": "code",
   "execution_count": 1,
   "metadata": {},
   "outputs": [],
   "source": [
    "import os\n",
    "\n",
    "DATA_FOLDER_PATH = \"./data\"\n",
    "TRAIN_DATA_PATH = os.path.join(DATA_FOLDER_PATH, 'train.csv')\n",
    "TEST_DATA_PATH = os.path.join(DATA_FOLDER_PATH, 'test.csv')"
   ]
  },
  {
   "cell_type": "code",
   "execution_count": 2,
   "metadata": {},
   "outputs": [],
   "source": [
    "def count_samples(csv_file_path):\n",
    "    samples_cnt = 0\n",
    "\n",
    "    with open(csv_file_path, 'r', errors='ignore') as csv_file:\n",
    "        for lines in csv_file:\n",
    "            samples_cnt += 1\n",
    "    return samples_cnt"
   ]
  },
  {
   "cell_type": "code",
   "execution_count": 3,
   "metadata": {},
   "outputs": [],
   "source": [
    "train_samples = count_samples(TRAIN_DATA_PATH)\n",
    "test_samples = count_samples(TEST_DATA_PATH)"
   ]
  },
  {
   "cell_type": "code",
   "execution_count": 4,
   "metadata": {},
   "outputs": [
    {
     "name": "stdout",
     "output_type": "stream",
     "text": [
      "Number of train samples : 3000000\n",
      "Number of test samples : 650000\n"
     ]
    }
   ],
   "source": [
    "print(\"Number of train samples : {}\\nNumber of test samples : {}\".format(train_samples, test_samples))"
   ]
  },
  {
   "cell_type": "code",
   "execution_count": 5,
   "metadata": {},
   "outputs": [],
   "source": [
    "import csv, string\n",
    "\n",
    "RATING_IDX = 0\n",
    "TITLE_IDX = 1\n",
    "REVIEW_IDX = 2\n",
    "\n",
    "def flow_from_csv(path=None, col_idx=REVIEW_IDX):\n",
    "    '''Produces generator that iterates through col_idxes in csv file containg data.\n",
    "                \n",
    "            Parameters:\n",
    "            path (str): file system path to a csv file with data samples.\n",
    "            loc_idx(int): number of column.\n",
    "                \n",
    "            Returns:\n",
    "            generator: generator that returns data from each row specified by col_idx.\n",
    "     '''\n",
    "    with open(path, 'r', errors='ignore') as csv_file:\n",
    "        reader = csv.reader(csv_file)\n",
    "        \n",
    "        readed_cnt = 0\n",
    "        while readed_cnt != train_samples - 1:\n",
    "            row = next(reader)\n",
    "            \n",
    "            text = row[col_idx].lower()\n",
    "            text = text.translate(str.maketrans('', '', string.punctuation))\n",
    "            \n",
    "            readed_cnt += 1\n",
    "            yield text\n",
    "            \n",
    "    return"
   ]
  },
  {
   "cell_type": "markdown",
   "metadata": {},
   "source": [
    "### Step 1: Dataset Summary & Explonation\n",
    "\n",
    "<font color=red>__*Feature descriptions*__</font>"
   ]
  },
  {
   "cell_type": "code",
   "execution_count": 6,
   "metadata": {},
   "outputs": [],
   "source": [
    "import tensorflow as tf\n",
    "from tensorflow.keras.preprocessing.text import Tokenizer\n",
    "\n",
    "max_words = 10000\n",
    "\n",
    "tokenizer = Tokenizer(num_words=max_words)\n",
    "review_gen = flow_from_csv(TRAIN_DATA_PATH, REVIEW_IDX)\n",
    "\n",
    "tokenizer.fit_on_texts(review_gen)"
   ]
  },
  {
   "cell_type": "code",
   "execution_count": 7,
   "metadata": {},
   "outputs": [
    {
     "data": {
      "text/plain": [
       "<BarContainer object of 30 artists>"
      ]
     },
     "execution_count": 7,
     "metadata": {},
     "output_type": "execute_result"
    },
    {
     "data": {
      "image/png": "[encoded data removed]",
      "text/plain": [
       "<Figure size 720x720 with 1 Axes>"
      ]
     },
     "metadata": {
      "needs_background": "light"
     },
     "output_type": "display_data"
    }
   ],
   "source": [
    "import numpy as np\n",
    "import matplotlib.pyplot as plt\n",
    "%matplotlib inline\n",
    "\n",
    "word_cnt = tokenizer.word_counts\n",
    "\n",
    "# Extracts the most frequent words\n",
    "most_freq_words = 30\n",
    "\n",
    "sorted_items = list(word_cnt.items())\n",
    "sorted_items.sort(key=lambda item: item[-1], reverse=True)\n",
    "\n",
    "most_freq_keys = [k for k, v in sorted_items[:most_freq_words]]\n",
    "most_freq_values = [v for k, v in sorted_items[:most_freq_words]]\n",
    "\n",
    "# Draws bar char of most frequent words\n",
    "plt.figure(figsize=(10, 10))\n",
    "plt.title(str(most_freq_words) + \" most frequent words\")\n",
    "plt.xlabel(\"Word\")\n",
    "plt.xticks(rotation=-90)\n",
    "plt.ylabel(\"Occurance\")\n",
    "plt.bar(most_freq_keys, most_freq_values)"
   ]
  },
  {
   "cell_type": "markdown",
   "metadata": {},
   "source": [
    "### Step 2: Design and Validate a Model Architecture \n",
    "\n",
    "<font color=red>__*Neural Net architecture descriptions tested*__</font>"
   ]
  },
  {
   "cell_type": "code",
   "execution_count": 30,
   "metadata": {},
   "outputs": [],
   "source": [
    "from tensorflow.keras.preprocessing.sequence import pad_sequences\n",
    "from tensorflow.keras.utils import to_categorical\n",
    "\n",
    "def data_pipeline(path, maxlen, batch_size=1, start_idx=0):\n",
    "    '''Produces generator that will be used to train neural network.\n",
    "\n",
    "            Parameters:\n",
    "            path (str): file system path to a csv file with data samples.\n",
    "\n",
    "            Returns:\n",
    "            generator: generator that returns tuple(list_of_reviews, list_of_outputs).\n",
    "    '''\n",
    "    with open(path, 'r', errors='ignore') as csv_file:\n",
    "        reader = csv.reader(csv_file)\n",
    "\n",
    "        readed_cnt = 0\n",
    "        # Skip first start_idx rows\n",
    "        while readed_cnt != start_idx:\n",
    "            next(reader)\n",
    "            readed_cnt += 1;\n",
    "\n",
    "        while readed_cnt + batch_size <= train_samples - 1:\n",
    "            reviews = []\n",
    "            ratings = []\n",
    "\n",
    "            for _ in range(batch_size):\n",
    "                row = next(reader)\n",
    "                # Extract ratings\n",
    "                rating = row[RATING_IDX]\n",
    "                ratings.append(ord(rating) - ord('0'))\n",
    "\n",
    "                # Extract and clear reviews\n",
    "                review = row[REVIEW_IDX].lower()\n",
    "                review = review.translate(str.maketrans('', '', string.punctuation))\n",
    "                reviews.append(review)\n",
    "\n",
    "                readed_cnt += 1\n",
    "\n",
    "            # Tokenize and pad sequences\n",
    "            reviews = tokenizer.texts_to_sequences(reviews)\n",
    "            reviews = pad_sequences(reviews, maxlen=maxlen)\n",
    "\n",
    "            # Converting input to binary class matrix\n",
    "            ratings = to_categorical(ratings, num_classes=6, dtype='uint8')\n",
    "            ratings = np.delete(ratings, 0, axis=1)\n",
    "            \n",
    "            yield reviews, ratings, [None]\n",
    "\n",
    "    return"
   ]
  },
  {
   "cell_type": "code",
   "execution_count": 70,
   "metadata": {},
   "outputs": [],
   "source": [
    "max_len = 100    # Maximal length of a sequence that can be feed to neural network\n",
    "\n",
    "model = tf.keras.models.Sequential([\n",
    "    tf.keras.layers.Embedding(max_words, 256, input_length=max_len),\n",
    "    tf.keras.layers.LSTM(128, recurrent_dropout=0.2, dropout=0.2),\n",
    "    tf.keras.layers.Dense(5, activation='softmax')\n",
    "])\n",
    "optimizer = tf.keras.optimizers.RMSprop(lr=0.01)\n",
    "model.compile(optimizer='rmsprop', loss='categorical_crossentropy', metrics=['acc'])"
   ]
  },
  {
   "cell_type": "code",
   "execution_count": 71,
   "metadata": {},
   "outputs": [
    {
     "name": "stdout",
     "output_type": "stream",
     "text": [
      "Model: \"sequential_13\"\n",
      "_________________________________________________________________\n",
      "Layer (type)                 Output Shape              Param #   \n",
      "=================================================================\n",
      "embedding_13 (Embedding)     (None, 100, 256)          2560000   \n",
      "_________________________________________________________________\n",
      "lstm_13 (LSTM)               (None, 128)               197120    \n",
      "_________________________________________________________________\n",
      "dense_13 (Dense)             (None, 5)                 645       \n",
      "=================================================================\n",
      "Total params: 2,757,765\n",
      "Trainable params: 2,757,765\n",
      "Non-trainable params: 0\n",
      "_________________________________________________________________\n"
     ]
    }
   ],
   "source": [
    "model.summary()"
   ]
  },
  {
   "cell_type": "code",
   "execution_count": 72,
   "metadata": {},
   "outputs": [
    {
     "name": "stdout",
     "output_type": "stream",
     "text": [
      "Train for 100 steps, validate for 50 steps\n",
      "Epoch 1/25\n",
      "100/100 [==============================] - 28s 282ms/step - loss: 1.4976 - acc: 0.3291 - val_loss: 1.2675 - val_acc: 0.4770\n",
      "Epoch 2/25\n",
      "100/100 [==============================] - 27s 267ms/step - loss: 1.3650 - acc: 0.3948 - val_loss: 1.2410 - val_acc: 0.4839\n",
      "Epoch 3/25\n",
      "100/100 [==============================] - 27s 269ms/step - loss: 1.3151 - acc: 0.4227 - val_loss: 1.2336 - val_acc: 0.4764\n",
      "Epoch 4/25\n",
      "100/100 [==============================] - 26s 265ms/step - loss: 1.3069 - acc: 0.4230 - val_loss: 1.2114 - val_acc: 0.4898\n",
      "Epoch 5/25\n",
      "100/100 [==============================] - 26s 265ms/step - loss: 1.2867 - acc: 0.4357 - val_loss: 1.2270 - val_acc: 0.4769\n",
      "Epoch 6/25\n",
      "100/100 [==============================] - 27s 268ms/step - loss: 1.2726 - acc: 0.4466 - val_loss: 1.1946 - val_acc: 0.4870\n",
      "Epoch 7/25\n",
      "100/100 [==============================] - 32s 317ms/step - loss: 1.2576 - acc: 0.4518 - val_loss: 1.1962 - val_acc: 0.4789\n",
      "Epoch 8/25\n",
      "100/100 [==============================] - 28s 280ms/step - loss: 1.2460 - acc: 0.4536 - val_loss: 1.2055 - val_acc: 0.4756\n",
      "Epoch 9/25\n",
      "100/100 [==============================] - 28s 285ms/step - loss: 1.2366 - acc: 0.4655 - val_loss: 1.1634 - val_acc: 0.5094\n",
      "Epoch 10/25\n",
      "100/100 [==============================] - 26s 259ms/step - loss: 1.2290 - acc: 0.4639 - val_loss: 1.1748 - val_acc: 0.4989\n",
      "Epoch 11/25\n",
      "100/100 [==============================] - 25s 253ms/step - loss: 1.2223 - acc: 0.4601 - val_loss: 1.1796 - val_acc: 0.4958\n",
      "Epoch 12/25\n",
      "100/100 [==============================] - 25s 248ms/step - loss: 1.2217 - acc: 0.4644 - val_loss: 1.1416 - val_acc: 0.5061\n",
      "Epoch 13/25\n",
      "100/100 [==============================] - 25s 251ms/step - loss: 1.2108 - acc: 0.4735 - val_loss: 1.1564 - val_acc: 0.5113\n",
      "Epoch 14/25\n",
      "100/100 [==============================] - 27s 266ms/step - loss: 1.2053 - acc: 0.4794 - val_loss: 1.1457 - val_acc: 0.5022\n",
      "Epoch 15/25\n",
      "100/100 [==============================] - 24s 241ms/step - loss: 1.1831 - acc: 0.5010 - val_loss: 1.1745 - val_acc: 0.4931\n",
      "Epoch 16/25\n",
      "100/100 [==============================] - 25s 247ms/step - loss: 1.1947 - acc: 0.4817 - val_loss: 1.2770 - val_acc: 0.4630\n",
      "Epoch 17/25\n",
      "100/100 [==============================] - 26s 257ms/step - loss: 1.1781 - acc: 0.4872 - val_loss: 1.1481 - val_acc: 0.4955\n",
      "Epoch 18/25\n",
      "100/100 [==============================] - 28s 276ms/step - loss: 1.1764 - acc: 0.4819 - val_loss: 1.1339 - val_acc: 0.5053\n",
      "Epoch 19/25\n",
      "100/100 [==============================] - 28s 276ms/step - loss: 1.1715 - acc: 0.4970 - val_loss: 1.1158 - val_acc: 0.5233\n",
      "Epoch 20/25\n",
      "100/100 [==============================] - 26s 263ms/step - loss: 1.1760 - acc: 0.4827 - val_loss: 1.1108 - val_acc: 0.5209\n",
      "Epoch 21/25\n",
      "100/100 [==============================] - 26s 264ms/step - loss: 1.1655 - acc: 0.4870 - val_loss: 1.1125 - val_acc: 0.5138\n",
      "Epoch 22/25\n",
      "100/100 [==============================] - 26s 255ms/step - loss: 1.1576 - acc: 0.4958 - val_loss: 1.1240 - val_acc: 0.5092\n",
      "Epoch 23/25\n",
      "100/100 [==============================] - 29s 290ms/step - loss: 1.1547 - acc: 0.5004 - val_loss: 1.1078 - val_acc: 0.5139\n",
      "Epoch 24/25\n",
      "100/100 [==============================] - 26s 264ms/step - loss: 1.1643 - acc: 0.4974 - val_loss: 1.0859 - val_acc: 0.5273\n",
      "Epoch 25/25\n",
      "100/100 [==============================] - 24s 237ms/step - loss: 1.1272 - acc: 0.5109 - val_loss: 1.1150 - val_acc: 0.5263\n"
     ]
    }
   ],
   "source": [
    "data_gen = data_pipeline(TRAIN_DATA_PATH, maxlen=max_len, batch_size=128)\n",
    "val_gen = data_pipeline(TRAIN_DATA_PATH, maxlen=max_len, batch_size=128, start_idx=2 * 10^6)\n",
    "\n",
    "history = model.fit(data_gen, steps_per_epoch=100,\n",
    "                              epochs=25, \n",
    "                              validation_data=val_gen,\n",
    "                              validation_steps=50)"
   ]
  },
  {
   "cell_type": "code",
   "execution_count": 12,
   "metadata": {},
   "outputs": [],
   "source": [
    "# model.save('first.h5')"
   ]
  },
  {
   "cell_type": "markdown",
   "metadata": {},
   "source": [
    "### Step 3: Test a Model on New Reviews"
   ]
  },
  {
   "cell_type": "code",
   "execution_count": 13,
   "metadata": {},
   "outputs": [],
   "source": [
    "def test():\n",
    "    pass"
   ]
  },
  {
   "cell_type": "markdown",
   "metadata": {},
   "source": [
    "### Step 4: Summary\n",
    "\n",
    "<font color=red>__*Final conclusions*__</font>"
   ]
  }
 ],
 "metadata": {
  "kernelspec": {
   "display_name": "Python 3",
   "language": "python",
   "name": "python3"
  },
  "language_info": {
   "codemirror_mode": {
    "name": "ipython",
    "version": 3
   },
   "file_extension": ".py",
   "mimetype": "text/x-python",
   "name": "python",
   "nbconvert_exporter": "python",
   "pygments_lexer": "ipython3",
   "version": "3.7.4"
  }
 },
 "nbformat": 4,
 "nbformat_minor": 2
}
