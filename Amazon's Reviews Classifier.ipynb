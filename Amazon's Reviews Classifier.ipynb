{
 "cells": [
  {
   "cell_type": "markdown",
   "metadata": {},
   "source": [
    "# dmarketing.ai\n",
    "\n",
    "### Deep Learning\n",
    "\n",
    "### Project: Build a reviews' classifier based on Amazon's reviews dataset\n",
    "\n",
    "<font color=red>__*Provide project's description here*__</font>"
   ]
  },
  {
   "cell_type": "markdown",
   "metadata": {},
   "source": [
    "### Step 0: Load The Data "
   ]
  },
  {
   "cell_type": "code",
   "execution_count": 1,
   "metadata": {},
   "outputs": [],
   "source": [
    "import os\n",
    "\n",
    "DATA_FOLDER_PATH = \"./data\"\n",
    "TRAIN_DATA_PATH = os.path.join(DATA_FOLDER_PATH, 'train.csv')\n",
    "TEST_DATA_PATH = os.path.join(DATA_FOLDER_PATH, 'test.csv')"
   ]
  },
  {
   "cell_type": "code",
   "execution_count": 2,
   "metadata": {},
   "outputs": [],
   "source": [
    "def count_samples(csv_file_path):\n",
    "    samples_cnt = 0\n",
    "\n",
    "    with open(csv_file_path, 'r', errors='ignore') as csv_file:\n",
    "        for lines in csv_file:\n",
    "            samples_cnt += 1\n",
    "    return samples_cnt"
   ]
  },
  {
   "cell_type": "code",
   "execution_count": 3,
   "metadata": {},
   "outputs": [],
   "source": [
    "train_samples = count_samples(TRAIN_DATA_PATH)\n",
    "test_samples = count_samples(TEST_DATA_PATH)"
   ]
  },
  {
   "cell_type": "code",
   "execution_count": 4,
   "metadata": {},
   "outputs": [
    {
     "name": "stdout",
     "output_type": "stream",
     "text": [
      "Number of train samples : 3000000\n",
      "Number of test samples : 650000\n"
     ]
    }
   ],
   "source": [
    "print(\"Number of train samples : {}\\nNumber of test samples : {}\".format(train_samples, test_samples))"
   ]
  },
  {
   "cell_type": "code",
   "execution_count": 5,
   "metadata": {},
   "outputs": [],
   "source": [
    "import csv, string\n",
    "\n",
    "RATING_IDX = 0\n",
    "TITLE_IDX = 1\n",
    "REVIEW_IDX = 2\n",
    "\n",
    "def flow_from_csv(path=None, col_idx=REVIEW_IDX):\n",
    "    '''Produces generator that iterates through col_idxes in csv file containg data.\n",
    "                \n",
    "            Parameters:\n",
    "            path (str): file system path to a csv file with data samples.\n",
    "            loc_idx(int): number of column.\n",
    "                \n",
    "            Returns:\n",
    "            generator: generator that returns data from each row specified by col_idx.\n",
    "     '''\n",
    "    with open(path, 'r', errors='ignore') as csv_file:\n",
    "        reader = csv.reader(csv_file)\n",
    "        \n",
    "        readed_cnt = 0\n",
    "        while readed_cnt != train_samples - 1:\n",
    "            row = next(reader)\n",
    "            \n",
    "            text = row[col_idx].lower()\n",
    "            text = text.translate(str.maketrans('', '', string.punctuation))\n",
    "            \n",
    "            readed_cnt += 1\n",
    "            yield text\n",
    "            \n",
    "    return"
   ]
  },
  {
   "cell_type": "markdown",
   "metadata": {},
   "source": [
    "### Step 1: Dataset Summary & Explonation\n",
    "\n",
    "<font color=red>__*Feature descriptions*__</font>"
   ]
  },
  {
   "cell_type": "code",
   "execution_count": 6,
   "metadata": {},
   "outputs": [],
   "source": [
    "import tensorflow as tf\n",
    "from tensorflow.keras.preprocessing.text import Tokenizer\n",
    "\n",
    "max_words = 10000\n",
    "\n",
    "tokenizer = Tokenizer(num_words=max_words)\n",
    "review_gen = flow_from_csv(TRAIN_DATA_PATH, REVIEW_IDX)\n",
    "\n",
    "tokenizer.fit_on_texts(review_gen)"
   ]
  },
  {
   "cell_type": "code",
   "execution_count": 7,
   "metadata": {},
   "outputs": [
    {
     "data": {
      "text/plain": [
       "<BarContainer object of 30 artists>"
      ]
     },
     "execution_count": 7,
     "metadata": {},
     "output_type": "execute_result"
    },
    {
     "data": {
      "image/png": "[encoded data removed]",
      "text/plain": [
       "<Figure size 720x720 with 1 Axes>"
      ]
     },
     "metadata": {
      "needs_background": "light"
     },
     "output_type": "display_data"
    }
   ],
   "source": [
    "import numpy as np\n",
    "import matplotlib.pyplot as plt\n",
    "%matplotlib inline\n",
    "\n",
    "word_cnt = tokenizer.word_counts\n",
    "\n",
    "# Extracts the most frequent words\n",
    "most_freq_words = 30\n",
    "\n",
    "sorted_items = list(word_cnt.items())\n",
    "sorted_items.sort(key=lambda item: item[-1], reverse=True)\n",
    "\n",
    "most_freq_keys = [k for k, v in sorted_items[:most_freq_words]]\n",
    "most_freq_values = [v for k, v in sorted_items[:most_freq_words]]\n",
    "\n",
    "# Draws bar char of most frequent words\n",
    "plt.figure(figsize=(10, 10))\n",
    "plt.title(str(most_freq_words) + \" most frequent words\")\n",
    "plt.xlabel(\"Word\")\n",
    "plt.xticks(rotation=-90)\n",
    "plt.ylabel(\"Occurance\")\n",
    "plt.bar(most_freq_keys, most_freq_values)"
   ]
  },
  {
   "cell_type": "markdown",
   "metadata": {},
   "source": [
    "### Step 2: Design and Validate a Model Architecture \n",
    "\n",
    "<font color=red>__*Neural Net architecture descriptions tested*__</font>"
   ]
  },
  {
   "cell_type": "code",
   "execution_count": 225,
   "metadata": {},
   "outputs": [],
   "source": [
    "from tensorflow.keras.preprocessing.sequence import pad_sequences\n",
    "from tensorflow.keras.utils import to_categorical\n",
    "\n",
    "classes = [\"negative\", \"neutral\", \"positive\"]\n",
    "# Returns index of a corresponding class in classes list\n",
    "rating2class = {'1': 0,\n",
    "                '2': 0,\n",
    "                '3': 1,\n",
    "                '4': 2,\n",
    "                '5': 2}\n",
    "\n",
    "NUMBER_OF_CLASSES = len(classes)         # Returns number of unique values in rating2class dict "
   ]
  },
  {
   "cell_type": "code",
   "execution_count": 226,
   "metadata": {},
   "outputs": [],
   "source": [
    "def skip_rows(gen, num):\n",
    "    '''Skips rows of csv file read by genertor.\n",
    "\n",
    "            Parameters:\n",
    "            gen (generator): csv file reader generator.\n",
    "            num (int): number of row to be skipped.\n",
    "    '''\n",
    "    skipped = 0\n",
    "    while skipped != num:\n",
    "        next(gen)\n",
    "        skipped += 1;"
   ]
  },
  {
   "cell_type": "code",
   "execution_count": 227,
   "metadata": {},
   "outputs": [],
   "source": [
    "def data_pipeline(path, maxlen, batch_size=1, start_idx=0):\n",
    "    '''Produces generator that will be used to train neural network.\n",
    "\n",
    "            Parameters:\n",
    "            path (str): file system path to a csv file with data samples.\n",
    "\n",
    "            Returns:\n",
    "            generator: generator that returns tuple(list_of_reviews, list_of_outputs).\n",
    "    '''\n",
    "    csv_file = open(path, 'r', errors='ignore')\n",
    "    reader = csv.reader(csv_file)\n",
    "\n",
    "    readed_cnt = start_idx\n",
    "    skip_rows(reader, start_idx)\n",
    "\n",
    "    while True:\n",
    "        reviews = []\n",
    "        ratings = []\n",
    "\n",
    "        for _ in range(batch_size):\n",
    "            row = next(reader)\n",
    "            # Extract ratings\n",
    "            rating = row[RATING_IDX]\n",
    "            rating_class = rating2class[rating]\n",
    "            ratings.append(rating_class)\n",
    "\n",
    "            # Extract and clear reviews\n",
    "            review = row[REVIEW_IDX].lower()\n",
    "            review = review.translate(str.maketrans('', '', string.punctuation))\n",
    "            reviews.append(review)\n",
    "\n",
    "            readed_cnt += 1\n",
    "\n",
    "        # Tokenize and pad sequences\n",
    "        reviews = tokenizer.texts_to_sequences(reviews)\n",
    "        reviews = pad_sequences(reviews, maxlen=maxlen)\n",
    "        \n",
    "        # Converting input to binary class matrix\n",
    "        ratings = to_categorical(ratings, num_classes=NUMBER_OF_CLASSES, dtype='uint8')\n",
    "            \n",
    "        yield reviews, ratings, [None]\n",
    "            \n",
    "        # Provides infinite data generation\n",
    "        if readed_cnt + batch_size >= train_samples - 1:\n",
    "            csv_file.close()\n",
    "            csv_file = open(path, 'r', errors='ignore')\n",
    "            reader = csv.reader(csv_file)\n",
    "            readed_cnt = start_idx\n",
    "            # Skip first start_idx rows\n",
    "            skip_rows(reader, start_idx)"
   ]
  },
  {
   "cell_type": "code",
   "execution_count": 228,
   "metadata": {},
   "outputs": [],
   "source": [
    "max_len = 80    # Maximal length of a sequence that can be feed to neural network\n",
    "\n",
    "model = tf.keras.models.Sequential([\n",
    "    tf.keras.layers.Embedding(max_words, 128, input_length=max_len),\n",
    "    tf.keras.layers.GRU(64, recurrent_dropout=0.2, dropout=0.2),\n",
    "    tf.keras.layers.Dense(NUMBER_OF_CLASSES, activation='softmax')\n",
    "])\n",
    "\n",
    "model.compile(optimizer='rmsprop', loss='categorical_crossentropy', metrics=['acc'])"
   ]
  },
  {
   "cell_type": "code",
   "execution_count": 199,
   "metadata": {},
   "outputs": [
    {
     "name": "stdout",
     "output_type": "stream",
     "text": [
      "Model: \"sequential_31\"\n",
      "_________________________________________________________________\n",
      "Layer (type)                 Output Shape              Param #   \n",
      "=================================================================\n",
      "embedding_32 (Embedding)     (None, 100, 256)          2560000   \n",
      "_________________________________________________________________\n",
      "gru_22 (GRU)                 (None, 128)               148224    \n",
      "_________________________________________________________________\n",
      "dense_31 (Dense)             (None, 3)                 387       \n",
      "=================================================================\n",
      "Total params: 2,708,611\n",
      "Trainable params: 2,708,611\n",
      "Non-trainable params: 0\n",
      "_________________________________________________________________\n"
     ]
    }
   ],
   "source": [
    "model.summary()"
   ]
  },
  {
   "cell_type": "code",
   "execution_count": 200,
   "metadata": {},
   "outputs": [],
   "source": [
    "tensorboard_cb = [\n",
    "    tf.keras.callbacks.TensorBoard(\n",
    "                                log_dir='best_sequential_model',\n",
    "                                histogram_freq=1,\n",
    "                                embeddings_freq=1)\n",
    "]"
   ]
  },
  {
   "cell_type": "code",
   "execution_count": 229,
   "metadata": {},
   "outputs": [
    {
     "name": "stdout",
     "output_type": "stream",
     "text": [
      "Train for 1000 steps, validate for 500 steps\n",
      "Epoch 1/40\n",
      "1000/1000 [==============================] - 218s 218ms/step - loss: 0.7778 - acc: 0.6610 - val_loss: 0.6720 - val_acc: 0.7134\n",
      "Epoch 2/40\n",
      "1000/1000 [==============================] - 214s 214ms/step - loss: 0.6764 - acc: 0.7119 - val_loss: 0.6391 - val_acc: 0.7313\n",
      "Epoch 3/40\n",
      "1000/1000 [==============================] - 212s 212ms/step - loss: 0.6500 - acc: 0.7244 - val_loss: 0.6219 - val_acc: 0.7375\n",
      "Epoch 4/40\n",
      "1000/1000 [==============================] - 211s 211ms/step - loss: 0.6357 - acc: 0.7315 - val_loss: 0.6150 - val_acc: 0.7417\n",
      "Epoch 5/40\n",
      "1000/1000 [==============================] - 219s 219ms/step - loss: 0.6233 - acc: 0.7378 - val_loss: 0.6062 - val_acc: 0.7435\n",
      "Epoch 6/40\n",
      "1000/1000 [==============================] - 213s 213ms/step - loss: 0.6071 - acc: 0.7446 - val_loss: 0.5996 - val_acc: 0.7479\n",
      "Epoch 7/40\n",
      "1000/1000 [==============================] - 207s 207ms/step - loss: 0.6041 - acc: 0.7462 - val_loss: 0.5889 - val_acc: 0.7532\n",
      "Epoch 8/40\n",
      "1000/1000 [==============================] - 200s 200ms/step - loss: 0.5966 - acc: 0.7494 - val_loss: 0.5914 - val_acc: 0.7524\n",
      "Epoch 9/40\n",
      "1000/1000 [==============================] - 213s 213ms/step - loss: 0.5919 - acc: 0.7523 - val_loss: 0.5814 - val_acc: 0.7561\n",
      "Epoch 10/40\n",
      "1000/1000 [==============================] - 217s 217ms/step - loss: 0.5901 - acc: 0.7527 - val_loss: 0.5752 - val_acc: 0.7593\n",
      "Epoch 11/40\n",
      "1000/1000 [==============================] - 224s 224ms/step - loss: 0.5842 - acc: 0.7558 - val_loss: 0.5697 - val_acc: 0.7621\n",
      "Epoch 12/40\n",
      " 709/1000 [====================>.........] - ETA: 57s - loss: 0.5818 - acc: 0.7566done\n",
      "['3', 'more like funchuck', 'Gave this to my dad for a gag gift after directing \"Nunsense,\" he got a reall kick out of it!']\n",
      "1000/1000 [==============================] - 215s 215ms/step - loss: 0.5870 - acc: 0.7535 - val_loss: 0.5654 - val_acc: 0.7643\n",
      "Epoch 13/40\n",
      "1000/1000 [==============================] - 218s 218ms/step - loss: 0.5841 - acc: 0.7562 - val_loss: 0.5701 - val_acc: 0.7619\n",
      "Epoch 14/40\n",
      "1000/1000 [==============================] - 213s 213ms/step - loss: 0.5856 - acc: 0.7540 - val_loss: 0.5655 - val_acc: 0.7639\n",
      "Epoch 15/40\n",
      "1000/1000 [==============================] - 232s 232ms/step - loss: 0.5804 - acc: 0.7568 - val_loss: 0.5629 - val_acc: 0.7644\n",
      "Epoch 16/40\n",
      "1000/1000 [==============================] - 210s 210ms/step - loss: 0.5805 - acc: 0.7576 - val_loss: 0.5611 - val_acc: 0.7663\n",
      "Epoch 17/40\n",
      "1000/1000 [==============================] - 216s 216ms/step - loss: 0.5753 - acc: 0.7604 - val_loss: 0.5604 - val_acc: 0.7655\n",
      "Epoch 18/40\n",
      "1000/1000 [==============================] - 200s 200ms/step - loss: 0.5686 - acc: 0.7624 - val_loss: 0.5622 - val_acc: 0.7654\n",
      "Epoch 19/40\n",
      "1000/1000 [==============================] - 200s 200ms/step - loss: 0.5703 - acc: 0.7617 - val_loss: 0.5578 - val_acc: 0.7666\n",
      "Epoch 20/40\n",
      "1000/1000 [==============================] - 203s 203ms/step - loss: 0.5662 - acc: 0.7638 - val_loss: 0.5550 - val_acc: 0.7678\n",
      "Epoch 21/40\n",
      "1000/1000 [==============================] - 200s 200ms/step - loss: 0.5649 - acc: 0.7639 - val_loss: 0.5538 - val_acc: 0.7687\n",
      "Epoch 22/40\n",
      "1000/1000 [==============================] - 200s 200ms/step - loss: 0.5652 - acc: 0.7638 - val_loss: 0.5494 - val_acc: 0.7719\n",
      "Epoch 23/40\n",
      "1000/1000 [==============================] - 206s 206ms/step - loss: 0.5616 - acc: 0.7662 - val_loss: 0.5447 - val_acc: 0.7728\n",
      "Epoch 24/40\n",
      " 427/1000 [===========>..................] - ETA: 1:54 - loss: 0.5586 - acc: 0.7667done\n",
      "['3', 'more like funchuck', 'Gave this to my dad for a gag gift after directing \"Nunsense,\" he got a reall kick out of it!']\n",
      " 999/1000 [============================>.] - ETA: 0s - loss: 0.5677 - acc: 0.7620done\n",
      "['4', 'i liked this album more then i thought i would', 'I heard a song or two and thought same o same o,but when i listened to songs like \"blue angel\",\"lanna\" and \\'mama\" the hair just rose off my neck.Roy is trully an amazing singer with a talent you don\\'t find much now days.']\n",
      "1000/1000 [==============================] - 211s 211ms/step - loss: 0.5678 - acc: 0.7620 - val_loss: 0.5426 - val_acc: 0.7736\n",
      "Epoch 25/40\n",
      "1000/1000 [==============================] - 199s 199ms/step - loss: 0.5667 - acc: 0.7645 - val_loss: 0.5334 - val_acc: 0.7793\n",
      "Epoch 26/40\n",
      "1000/1000 [==============================] - 197s 197ms/step - loss: 0.5662 - acc: 0.7636 - val_loss: 0.5417 - val_acc: 0.7744\n",
      "Epoch 27/40\n",
      "1000/1000 [==============================] - 197s 197ms/step - loss: 0.5647 - acc: 0.7647 - val_loss: 0.5491 - val_acc: 0.7719\n",
      "Epoch 28/40\n",
      "1000/1000 [==============================] - 197s 197ms/step - loss: 0.5664 - acc: 0.7634 - val_loss: 0.5372 - val_acc: 0.7764\n",
      "Epoch 29/40\n",
      "1000/1000 [==============================] - 196s 196ms/step - loss: 0.5587 - acc: 0.7680 - val_loss: 0.5423 - val_acc: 0.7747\n",
      "Epoch 30/40\n",
      "1000/1000 [==============================] - 197s 197ms/step - loss: 0.5561 - acc: 0.7688 - val_loss: 0.5428 - val_acc: 0.7744\n",
      "Epoch 31/40\n",
      "1000/1000 [==============================] - 197s 197ms/step - loss: 0.5560 - acc: 0.7678 - val_loss: 0.5428 - val_acc: 0.7741\n",
      "Epoch 32/40\n",
      "1000/1000 [==============================] - 196s 196ms/step - loss: 0.5544 - acc: 0.7695 - val_loss: 0.5438 - val_acc: 0.7731\n",
      "Epoch 33/40\n",
      "1000/1000 [==============================] - 198s 198ms/step - loss: 0.5560 - acc: 0.7684 - val_loss: 0.5374 - val_acc: 0.7769\n",
      "Epoch 34/40\n",
      "1000/1000 [==============================] - 197s 197ms/step - loss: 0.5549 - acc: 0.7685 - val_loss: 0.5555 - val_acc: 0.7694\n",
      "Epoch 35/40\n",
      "1000/1000 [==============================] - 196s 196ms/step - loss: 0.5514 - acc: 0.7709 - val_loss: 0.5370 - val_acc: 0.7773\n",
      "Epoch 36/40\n",
      " 145/1000 [===>..........................] - ETA: 2:35 - loss: 0.5441 - acc: 0.7744done\n",
      "['3', 'more like funchuck', 'Gave this to my dad for a gag gift after directing \"Nunsense,\" he got a reall kick out of it!']\n",
      "1000/1000 [==============================] - 197s 197ms/step - loss: 0.5584 - acc: 0.7675 - val_loss: 0.5381 - val_acc: 0.7771\n",
      "Epoch 37/40\n",
      "1000/1000 [==============================] - 197s 197ms/step - loss: 0.5589 - acc: 0.7672 - val_loss: 0.5392 - val_acc: 0.7757\n",
      "Epoch 38/40\n",
      "1000/1000 [==============================] - 234s 234ms/step - loss: 0.5574 - acc: 0.7681 - val_loss: 0.5359 - val_acc: 0.7768\n",
      "Epoch 39/40\n",
      "1000/1000 [==============================] - 217s 217ms/step - loss: 0.5567 - acc: 0.7686 - val_loss: 0.5367 - val_acc: 0.7781\n",
      "Epoch 40/40\n",
      "1000/1000 [==============================] - 209s 209ms/step - loss: 0.5564 - acc: 0.7682 - val_loss: 0.5370 - val_acc: 0.7756\n"
     ]
    }
   ],
   "source": [
    "data_gen = data_pipeline(TRAIN_DATA_PATH, maxlen=max_len, batch_size=256, start_idx=0)\n",
    "val_gen = data_pipeline(TRAIN_DATA_PATH, maxlen=max_len, batch_size=256, start_idx=2 * 10^6)\n",
    "\n",
    "history = model.fit(data_gen, steps_per_epoch=1000,\n",
    "                    epochs=40, \n",
    "                    validation_data=val_gen,\n",
    "                    validation_steps=500,\n",
    "                    callbacks=tensorboard_cb)"
   ]
  },
  {
   "cell_type": "code",
   "execution_count": 230,
   "metadata": {},
   "outputs": [],
   "source": [
    "model.save('best_sequential_model.h5')"
   ]
  },
  {
   "cell_type": "markdown",
   "metadata": {},
   "source": [
    "### Step 3: Test a Model on New Reviews"
   ]
  },
  {
   "cell_type": "code",
   "execution_count": 74,
   "metadata": {},
   "outputs": [],
   "source": [
    "def test():\n",
    "    pass"
   ]
  },
  {
   "cell_type": "markdown",
   "metadata": {},
   "source": [
    "### Step 4: Summary\n",
    "\n",
    "<font color=red>__*Final conclusions*__</font>"
   ]
  }
 ],
 "metadata": {
  "kernelspec": {
   "display_name": "Python 3",
   "language": "python",
   "name": "python3"
  },
  "language_info": {
   "codemirror_mode": {
    "name": "ipython",
    "version": 3
   },
   "file_extension": ".py",
   "mimetype": "text/x-python",
   "name": "python",
   "nbconvert_exporter": "python",
   "pygments_lexer": "ipython3",
   "version": "3.7.4"
  }
 },
 "nbformat": 4,
 "nbformat_minor": 2
}
