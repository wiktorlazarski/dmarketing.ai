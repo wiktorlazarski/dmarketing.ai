{
 "cells": [
  {
   "cell_type": "markdown",
   "metadata": {},
   "source": [
    "# dmarketing.ai\n",
    "\n",
    "## Deep Learning\n",
    "\n",
    "## Project: Build a reviews' classifier based on Amazon's reviews dataset\n",
    "\n",
    "*__dmarketing.ai__* (*Digital Marketing AI*) is a deep learning project focused on building severally, vastly diverse usage, neural net models. <br /><br /> \n",
    "In this _Jupyter Notebook_ you will find step by step build Recurrent Neural Network that can perform review sentiment classification and deside whether customer review was : *'negative', 'neutral' , 'positive'*. <br /> \n",
    "Dataset for building a classifier were downloaded from [link](https://registry.opendata.aws/amazon-reviews/#usageexamples) and contains *train.csv* and *test.csv* files which contain training and testing data respectivly."
   ]
  },
  {
   "cell_type": "markdown",
   "metadata": {},
   "source": [
    "## Design sequential architecture that takes review as an input and outputs sentiment.\n",
    "\n",
    "### Step 1: Load & Explore Dataset"
   ]
  },
  {
   "cell_type": "code",
   "execution_count": 1,
   "metadata": {},
   "outputs": [],
   "source": [
    "import os\n",
    "\n",
    "DATA_FOLDER_PATH = \"./data\"\n",
    "TRAIN_DATA_PATH = os.path.join(DATA_FOLDER_PATH, 'train.csv')\n",
    "TEST_DATA_PATH = os.path.join(DATA_FOLDER_PATH, 'test.csv')"
   ]
  },
  {
   "cell_type": "markdown",
   "metadata": {},
   "source": [
    "#### Counting the number of samples available in the csv_file.\n",
    "\n",
    "I constructed a generator by which I will be iterate through CSV files due to their large size which makes them impossible to load into RAM memory."
   ]
  },
  {
   "cell_type": "code",
   "execution_count": 2,
   "metadata": {},
   "outputs": [],
   "source": [
    "def count_samples(csv_file_path):\n",
    "    '''Counts samples of data containes in a single csv file.\n",
    "\n",
    "            Parameters:\n",
    "            csv_file_path (str): file system path to a csv file with data samples.\n",
    "\n",
    "            Returns:\n",
    "            sample_cnt (int): number of samples.\n",
    "    '''\n",
    "    samples_cnt = 0\n",
    "\n",
    "    with open(csv_file_path, 'r', errors='ignore') as csv_file:\n",
    "        for lines in csv_file:\n",
    "            samples_cnt += 1\n",
    "    return samples_cnt"
   ]
  },
  {
   "cell_type": "code",
   "execution_count": 3,
   "metadata": {},
   "outputs": [],
   "source": [
    "train_samples = count_samples(TRAIN_DATA_PATH)\n",
    "test_samples = count_samples(TEST_DATA_PATH)"
   ]
  },
  {
   "cell_type": "code",
   "execution_count": 4,
   "metadata": {},
   "outputs": [
    {
     "name": "stdout",
     "output_type": "stream",
     "text": [
      "Number of train samples : 3000000\n",
      "Number of test samples : 650000\n"
     ]
    }
   ],
   "source": [
    "print(\"Number of train samples : {}\\nNumber of test samples : {}\".format(train_samples, test_samples))"
   ]
  },
  {
   "cell_type": "markdown",
   "metadata": {},
   "source": [
    "#### Constructing a function that allows to iterate over choosen column in CSV file.\n",
    "The data inside CSV file contain three columns containing following features:\n",
    "\n",
    "- `'rating'` is an integer that represents rating of a corresponding review.\n",
    "- `'title'` is a string that represents title of a corresponding review.\n",
    "- `'review'` is a string that constain text of a review. "
   ]
  },
  {
   "cell_type": "code",
   "execution_count": 5,
   "metadata": {},
   "outputs": [],
   "source": [
    "import csv, string\n",
    "\n",
    "RATING_IDX = 0\n",
    "TITLE_IDX = 1\n",
    "REVIEW_IDX = 2\n",
    "\n",
    "def flow_from_csv(path=None, col_idx=REVIEW_IDX):\n",
    "    '''Produces generator that iterates through col_idxes in csv file containg data.\n",
    "                \n",
    "            Parameters:\n",
    "            path (str): file system path to a csv file with data samples.\n",
    "            loc_idx(int): number of column.\n",
    "                \n",
    "            Returns:\n",
    "            generator: generator that returns data from each row specified by col_idx.\n",
    "     '''\n",
    "    with open(path, 'r', errors='ignore') as csv_file:\n",
    "        reader = csv.reader(csv_file)\n",
    "        \n",
    "        readed_cnt = 0\n",
    "        while readed_cnt != train_samples - 1:\n",
    "            row = next(reader)\n",
    "            \n",
    "            text = row[col_idx].lower()\n",
    "            text = text.translate(str.maketrans('', '', string.punctuation))\n",
    "            \n",
    "            readed_cnt += 1\n",
    "            yield text\n",
    "            \n",
    "    return"
   ]
  },
  {
   "cell_type": "markdown",
   "metadata": {},
   "source": [
    "#### Creating a Tokenizer class object and fiting it on reviews in train dataset.\n",
    "\n",
    "Tokenizer object will be then used to : create sequences out of strings of reviews, padding those sequences to a given length. <br/>\n",
    "For more detailed description visit [keras.preprocessing.text.Tokenizer documentation](https://keras.io/preprocessing/text/)"
   ]
  },
  {
   "cell_type": "code",
   "execution_count": 6,
   "metadata": {},
   "outputs": [],
   "source": [
    "import tensorflow as tf\n",
    "from tensorflow.keras.preprocessing.text import Tokenizer\n",
    "\n",
    "rev_max_words = 10000\n",
    "\n",
    "rev_tokenizer = Tokenizer(num_words=rev_max_words)\n",
    "review_gen = flow_from_csv(TRAIN_DATA_PATH, REVIEW_IDX)\n",
    "\n",
    "rev_tokenizer.fit_on_texts(review_gen)"
   ]
  },
  {
   "cell_type": "markdown",
   "metadata": {},
   "source": [
    "#### Based on the tokenizer determining the most frequently occured words."
   ]
  },
  {
   "cell_type": "code",
   "execution_count": 7,
   "metadata": {},
   "outputs": [
    {
     "data": {
      "text/plain": [
       "<BarContainer object of 30 artists>"
      ]
     },
     "execution_count": 7,
     "metadata": {},
     "output_type": "execute_result"
    },
    {
     "data": {
      "image/png": "[encoded data removed]",
      "text/plain": [
       "<Figure size 720x720 with 1 Axes>"
      ]
     },
     "metadata": {
      "needs_background": "light"
     },
     "output_type": "display_data"
    }
   ],
   "source": [
    "import numpy as np\n",
    "import matplotlib.pyplot as plt\n",
    "%matplotlib inline\n",
    "\n",
    "word_cnt = rev_tokenizer.word_counts\n",
    "\n",
    "# Extracts the most frequent words\n",
    "most_freq_words = 30\n",
    "\n",
    "sorted_items = list(word_cnt.items())\n",
    "sorted_items.sort(key=lambda item: item[-1], reverse=True)\n",
    "\n",
    "most_freq_keys = [k for k, v in sorted_items[:most_freq_words]]\n",
    "most_freq_values = [v for k, v in sorted_items[:most_freq_words]]\n",
    "\n",
    "# Draws bar char of most frequent words\n",
    "plt.figure(figsize=(10, 10))\n",
    "plt.title(str(most_freq_words) + \" most frequent words\")\n",
    "plt.xlabel(\"Word\")\n",
    "plt.xticks(rotation=-90)\n",
    "plt.ylabel(\"Occurance\")\n",
    "plt.bar(most_freq_keys, most_freq_values)"
   ]
  },
  {
   "cell_type": "markdown",
   "metadata": {},
   "source": [
    "### Step 2: Design & Validate a Model Architecture \n",
    "\n",
    "\n",
    "#### Creating data pipeline.\n",
    "\n",
    "Creating a data pipeline that will produce generator returning *tuple(inputs, targets)* that will be used to train neural network model."
   ]
  },
  {
   "cell_type": "code",
   "execution_count": 8,
   "metadata": {},
   "outputs": [],
   "source": [
    "from tensorflow.keras.preprocessing.sequence import pad_sequences\n",
    "from tensorflow.keras.utils import to_categorical\n",
    "\n",
    "classes = [\"negative\", \"neutral\", \"positive\"]\n",
    "# Returns index of a corresponding class in classes list\n",
    "rating2class = {'1': 0,\n",
    "                '2': 0,\n",
    "                '3': 1,\n",
    "                '4': 2,\n",
    "                '5': 2}\n",
    "\n",
    "NUMBER_OF_CLASSES = len(classes)         # Returns number of unique values in rating2class dict "
   ]
  },
  {
   "cell_type": "code",
   "execution_count": 9,
   "metadata": {},
   "outputs": [],
   "source": [
    "def skip_rows(gen, num):\n",
    "    '''Skips rows of csv file read by genertor.\n",
    "\n",
    "            Parameters:\n",
    "            gen (generator): csv file reader generator.\n",
    "            num (int): number of row to be skipped.\n",
    "    '''\n",
    "    skipped = 0\n",
    "    while skipped != num:\n",
    "        next(gen)\n",
    "        skipped += 1;"
   ]
  },
  {
   "cell_type": "code",
   "execution_count": 10,
   "metadata": {},
   "outputs": [],
   "source": [
    "def prepare_text(text):\n",
    "    '''Returns text without punctuations and all characters are lowercase. Input text remains unmodified.\n",
    "\n",
    "            Parameters:\n",
    "            text (str): text based on which new modified string is returned.\n",
    "\n",
    "            Returns:\n",
    "            retv (str): returned modified string.\n",
    "    '''\n",
    "    retv = text.lower()\n",
    "    retv = retv.translate(str.maketrans('', '', string.punctuation))\n",
    "    return retv"
   ]
  },
  {
   "cell_type": "code",
   "execution_count": 11,
   "metadata": {},
   "outputs": [],
   "source": [
    "def first_pipeline(path, maxlen, batch_size=1, start_idx=0):\n",
    "    '''Produces generator that will be used to train neural network.\n",
    "\n",
    "            Parameters:\n",
    "            path (str): file system path to a csv file with data samples.\n",
    "\n",
    "            Returns:\n",
    "            generator: generator that returns tuple(list_of_reviews, list_of_outputs).\n",
    "    '''\n",
    "    csv_file = open(path, 'r', errors='ignore')\n",
    "    reader = csv.reader(csv_file)\n",
    "\n",
    "    readed_cnt = start_idx\n",
    "    skip_rows(reader, start_idx)\n",
    "\n",
    "    while True:\n",
    "        reviews = []\n",
    "        ratings = []\n",
    "\n",
    "        for _ in range(batch_size):\n",
    "            row = next(reader)\n",
    "            # Extracts ratings\n",
    "            rating = row[RATING_IDX]\n",
    "            rating_class = rating2class[rating]\n",
    "            ratings.append(rating_class)\n",
    "\n",
    "            # Extracts and clears reviews\n",
    "            review = prepare_text(row[REVIEW_IDX])\n",
    "            reviews.append(review)\n",
    "\n",
    "            readed_cnt += 1\n",
    "\n",
    "        # Tokenizes and pads sequences\n",
    "        reviews = rev_tokenizer.texts_to_sequences(reviews)\n",
    "        reviews = pad_sequences(reviews, maxlen=maxlen)\n",
    "        \n",
    "        # Converts input to binary class matrix\n",
    "        ratings = to_categorical(ratings, num_classes=NUMBER_OF_CLASSES, dtype='uint8')\n",
    "            \n",
    "        yield reviews, ratings, [None]\n",
    "            \n",
    "        # Provides infinite data generation\n",
    "        if readed_cnt + batch_size >= train_samples - 1:\n",
    "            csv_file.close()\n",
    "            csv_file = open(path, 'r', errors='ignore')\n",
    "            reader = csv.reader(csv_file)\n",
    "            readed_cnt = start_idx\n",
    "            # Skips first start_idx rows\n",
    "            skip_rows(reader, start_idx)"
   ]
  },
  {
   "cell_type": "markdown",
   "metadata": {},
   "source": [
    "#### Creating and training model.\n",
    "\n",
    "Creating Recurrent Neural Network model and training it."
   ]
  },
  {
   "cell_type": "code",
   "execution_count": 12,
   "metadata": {},
   "outputs": [],
   "source": [
    "rev_max_len = 80    # Maximal length of a sequence that can be feed to neural network\n",
    "\n",
    "model_v1 = tf.keras.models.Sequential([\n",
    "    tf.keras.layers.Embedding(rev_max_words, 128, input_length=rev_max_len, name='input_v1'),\n",
    "    tf.keras.layers.GRU(64, recurrent_dropout=0.2, dropout=0.2),\n",
    "    tf.keras.layers.Dense(NUMBER_OF_CLASSES, activation='softmax', name='output_v1')\n",
    "])\n",
    "\n",
    "model_v1.compile(optimizer='rmsprop', loss='categorical_crossentropy', metrics=['acc'])"
   ]
  },
  {
   "cell_type": "code",
   "execution_count": 13,
   "metadata": {},
   "outputs": [
    {
     "name": "stdout",
     "output_type": "stream",
     "text": [
      "Model: \"sequential\"\n",
      "_________________________________________________________________\n",
      "Layer (type)                 Output Shape              Param #   \n",
      "=================================================================\n",
      "input_v1 (Embedding)         (None, 80, 128)           1280000   \n",
      "_________________________________________________________________\n",
      "gru (GRU)                    (None, 64)                37248     \n",
      "_________________________________________________________________\n",
      "output_v1 (Dense)            (None, 3)                 195       \n",
      "=================================================================\n",
      "Total params: 1,317,443\n",
      "Trainable params: 1,317,443\n",
      "Non-trainable params: 0\n",
      "_________________________________________________________________\n"
     ]
    }
   ],
   "source": [
    "model_v1.summary()"
   ]
  },
  {
   "cell_type": "code",
   "execution_count": 14,
   "metadata": {},
   "outputs": [],
   "source": [
    "def tensorboard_callback(log_dir):\n",
    "    '''Returns keras.callback object to save tensorboard parameter of trained model.\n",
    "\n",
    "            Parameters:\n",
    "            log_dir (str): path to a directory in which we will store information.\n",
    "\n",
    "            Returns:\n",
    "            (list of tensorflow.keras.callbacks): list object containg one callback that can be directly use while training.\n",
    "    '''\n",
    "    return [tf.keras.callbacks.TensorBoard(\n",
    "                                    log_dir=log_dir,\n",
    "                                    histogram_freq=1,\n",
    "                                    embeddings_freq=1)]"
   ]
  },
  {
   "cell_type": "code",
   "execution_count": 15,
   "metadata": {},
   "outputs": [
    {
     "name": "stdout",
     "output_type": "stream",
     "text": [
      "Train for 1000 steps, validate for 500 steps\n",
      "Epoch 1/40\n",
      "1000/1000 - 206s - loss: 0.7900 - acc: 0.6547 - val_loss: 0.6882 - val_acc: 0.7056\n",
      "Epoch 2/40\n",
      "1000/1000 - 196s - loss: 0.6870 - acc: 0.7069 - val_loss: 0.6472 - val_acc: 0.7273\n",
      "Epoch 3/40\n",
      "1000/1000 - 214s - loss: 0.6588 - acc: 0.7204 - val_loss: 0.6321 - val_acc: 0.7335\n",
      "Epoch 4/40\n",
      "1000/1000 - 246s - loss: 0.6450 - acc: 0.7275 - val_loss: 0.6238 - val_acc: 0.7369\n",
      "Epoch 5/40\n",
      "1000/1000 - 230s - loss: 0.6332 - acc: 0.7336 - val_loss: 0.6150 - val_acc: 0.7395\n",
      "Epoch 6/40\n",
      "1000/1000 - 213s - loss: 0.6153 - acc: 0.7411 - val_loss: 0.6108 - val_acc: 0.7424\n",
      "Epoch 7/40\n",
      "1000/1000 - 210s - loss: 0.6117 - acc: 0.7431 - val_loss: 0.5965 - val_acc: 0.7490\n",
      "Epoch 8/40\n",
      "1000/1000 - 215s - loss: 0.6047 - acc: 0.7465 - val_loss: 0.5997 - val_acc: 0.7498\n",
      "Epoch 9/40\n",
      "1000/1000 - 207s - loss: 0.6000 - acc: 0.7492 - val_loss: 0.5881 - val_acc: 0.7529\n",
      "Epoch 10/40\n",
      "1000/1000 - 211s - loss: 0.5980 - acc: 0.7493 - val_loss: 0.5833 - val_acc: 0.7557\n",
      "Epoch 11/40\n",
      "1000/1000 - 209s - loss: 0.5919 - acc: 0.7526 - val_loss: 0.5772 - val_acc: 0.7582\n",
      "Epoch 12/40\n",
      "1000/1000 - 204s - loss: 0.5949 - acc: 0.7506 - val_loss: 0.5725 - val_acc: 0.7613\n",
      "Epoch 13/40\n",
      "1000/1000 - 188s - loss: 0.5922 - acc: 0.7526 - val_loss: 0.5787 - val_acc: 0.7586\n",
      "Epoch 14/40\n",
      "1000/1000 - 186s - loss: 0.5937 - acc: 0.7512 - val_loss: 0.5726 - val_acc: 0.7615\n",
      "Epoch 15/40\n",
      "1000/1000 - 177s - loss: 0.5890 - acc: 0.7537 - val_loss: 0.5708 - val_acc: 0.7612\n",
      "Epoch 16/40\n",
      "1000/1000 - 184s - loss: 0.5897 - acc: 0.7534 - val_loss: 0.5691 - val_acc: 0.7633\n",
      "Epoch 17/40\n",
      "1000/1000 - 181s - loss: 0.5846 - acc: 0.7564 - val_loss: 0.5686 - val_acc: 0.7621\n",
      "Epoch 18/40\n",
      "1000/1000 - 187s - loss: 0.5773 - acc: 0.7590 - val_loss: 0.5707 - val_acc: 0.7624\n",
      "Epoch 19/40\n",
      "1000/1000 - 185s - loss: 0.5804 - acc: 0.7575 - val_loss: 0.5676 - val_acc: 0.7625\n",
      "Epoch 20/40\n",
      "1000/1000 - 183s - loss: 0.5762 - acc: 0.7598 - val_loss: 0.5637 - val_acc: 0.7638\n",
      "Epoch 21/40\n",
      "1000/1000 - 191s - loss: 0.5752 - acc: 0.7603 - val_loss: 0.5611 - val_acc: 0.7658\n",
      "Epoch 22/40\n",
      "1000/1000 - 183s - loss: 0.5756 - acc: 0.7599 - val_loss: 0.5599 - val_acc: 0.7666\n",
      "Epoch 23/40\n",
      "1000/1000 - 179s - loss: 0.5717 - acc: 0.7617 - val_loss: 0.5549 - val_acc: 0.7684\n",
      "Epoch 24/40\n",
      "1000/1000 - 176s - loss: 0.5776 - acc: 0.7578 - val_loss: 0.5552 - val_acc: 0.7682\n",
      "Epoch 25/40\n",
      "1000/1000 - 181s - loss: 0.5770 - acc: 0.7596 - val_loss: 0.5467 - val_acc: 0.7740\n",
      "Epoch 26/40\n",
      "1000/1000 - 183s - loss: 0.5762 - acc: 0.7589 - val_loss: 0.5545 - val_acc: 0.7688\n",
      "Epoch 27/40\n",
      "1000/1000 - 180s - loss: 0.5749 - acc: 0.7603 - val_loss: 0.5608 - val_acc: 0.7664\n",
      "Epoch 28/40\n",
      "1000/1000 - 188s - loss: 0.5758 - acc: 0.7594 - val_loss: 0.5493 - val_acc: 0.7722\n",
      "Epoch 29/40\n",
      "1000/1000 - 184s - loss: 0.5696 - acc: 0.7629 - val_loss: 0.5541 - val_acc: 0.7700\n",
      "Epoch 30/40\n",
      "1000/1000 - 180s - loss: 0.5667 - acc: 0.7642 - val_loss: 0.5538 - val_acc: 0.7697\n",
      "Epoch 31/40\n",
      "1000/1000 - 193s - loss: 0.5675 - acc: 0.7629 - val_loss: 0.5522 - val_acc: 0.7702\n",
      "Epoch 32/40\n",
      "1000/1000 - 186s - loss: 0.5647 - acc: 0.7651 - val_loss: 0.5566 - val_acc: 0.7689\n",
      "Epoch 33/40\n",
      "1000/1000 - 185s - loss: 0.5655 - acc: 0.7642 - val_loss: 0.5497 - val_acc: 0.7717\n",
      "Epoch 34/40\n",
      "1000/1000 - 184s - loss: 0.5657 - acc: 0.7629 - val_loss: 0.5633 - val_acc: 0.7653\n",
      "Epoch 35/40\n",
      "1000/1000 - 175s - loss: 0.5625 - acc: 0.7664 - val_loss: 0.5471 - val_acc: 0.7729\n",
      "Epoch 36/40\n",
      "1000/1000 - 172s - loss: 0.5707 - acc: 0.7619 - val_loss: 0.5492 - val_acc: 0.7721\n",
      "Epoch 37/40\n",
      "1000/1000 - 170s - loss: 0.5706 - acc: 0.7626 - val_loss: 0.5512 - val_acc: 0.7712\n",
      "Epoch 38/40\n",
      "1000/1000 - 171s - loss: 0.5697 - acc: 0.7618 - val_loss: 0.5451 - val_acc: 0.7722\n",
      "Epoch 39/40\n",
      "1000/1000 - 170s - loss: 0.5675 - acc: 0.7637 - val_loss: 0.5477 - val_acc: 0.7726\n",
      "Epoch 40/40\n",
      "1000/1000 - 170s - loss: 0.5676 - acc: 0.7634 - val_loss: 0.5476 - val_acc: 0.7722\n"
     ]
    }
   ],
   "source": [
    "data_gen = first_pipeline(TRAIN_DATA_PATH, maxlen=rev_max_len, batch_size=256)\n",
    "val_gen = first_pipeline(TRAIN_DATA_PATH, maxlen=rev_max_len, batch_size=256, start_idx=2 * 10^6)\n",
    "\n",
    "history = model_v1.fit(data_gen, steps_per_epoch=1000,\n",
    "                       epochs=40, \n",
    "                       validation_data=val_gen,\n",
    "                       validation_steps=500,\n",
    "                       callbacks=tensorboard_callback('best_sequential_rev_model'),\n",
    "                       verbose=2)"
   ]
  },
  {
   "cell_type": "markdown",
   "metadata": {},
   "source": [
    "#### Plots of loss function and accuracy parameters with respect to epoch."
   ]
  },
  {
   "cell_type": "code",
   "execution_count": 20,
   "metadata": {},
   "outputs": [],
   "source": [
    "def plot_accuracy(history):\n",
    "    '''Plots training and validation accuracy obtained in training process.\n",
    "\n",
    "            Parameters:\n",
    "            history (tensorflow.python.keras.callbacks.History): history of training.\n",
    "\n",
    "            Returns:\n",
    "            matplotlib plot of accuracies with respect to epoch.\n",
    "    '''\n",
    "    hist_dict = history.history\n",
    "    train_acc = hist_dict['acc']\n",
    "    val_acc = hist_dict['val_acc']\n",
    "\n",
    "    epochs = np.arange(1, 41)\n",
    "\n",
    "    plt.plot(epochs, train_acc, 'bo', label='Train accuracy')\n",
    "    plt.plot(epochs, val_acc, 'r-', label='Validation accuracy')\n",
    "    plt.grid()\n",
    "    plt.legend(loc='best')"
   ]
  },
  {
   "cell_type": "code",
   "execution_count": 21,
   "metadata": {},
   "outputs": [],
   "source": [
    "def plot_loss(history):\n",
    "    '''Plots training and validation losses obtained in training process.\n",
    "\n",
    "            Parameters:\n",
    "            history (tensorflow.python.keras.callbacks.History): history of training.\n",
    "\n",
    "            Returns:\n",
    "            matplotlib plot of accuracies with respect to epoch.\n",
    "    '''\n",
    "    hist_dict = history.history\n",
    "    train_loss = hist_dict['loss']\n",
    "    val_loss = hist_dict['val_loss']\n",
    "    \n",
    "    epochs = np.arange(1, 41)\n",
    "    \n",
    "    plt.plot(epochs, train_loss, 'bo', label='Train loss')\n",
    "    plt.plot(epochs, val_loss, 'r-', label='Validation loss')\n",
    "    plt.grid()\n",
    "    plt.legend(loc='best')"
   ]
  },
  {
   "cell_type": "code",
   "execution_count": 22,
   "metadata": {},
   "outputs": [
    {
     "data": {
      "image/png": "[encoded data removed]",
      "text/plain": [
       "<Figure size 432x288 with 1 Axes>"
      ]
     },
     "metadata": {
      "needs_background": "light"
     },
     "output_type": "display_data"
    }
   ],
   "source": [
    "plot_accuracy(history)"
   ]
  },
  {
   "cell_type": "code",
   "execution_count": 23,
   "metadata": {},
   "outputs": [
    {
     "data": {
      "image/png": "[encoded data removed]",
      "text/plain": [
       "<Figure size 432x288 with 1 Axes>"
      ]
     },
     "metadata": {
      "needs_background": "light"
     },
     "output_type": "display_data"
    }
   ],
   "source": [
    "plot_loss(history)"
   ]
  },
  {
   "cell_type": "markdown",
   "metadata": {},
   "source": [
    "#### Saving best Sequential model of RNN obtain."
   ]
  },
  {
   "cell_type": "code",
   "execution_count": 24,
   "metadata": {},
   "outputs": [],
   "source": [
    "model_v1.save('best_sequential_rev_model.h5')"
   ]
  },
  {
   "cell_type": "markdown",
   "metadata": {},
   "source": [
    "### Step 3: Test Model on New Reviews"
   ]
  },
  {
   "cell_type": "code",
   "execution_count": 25,
   "metadata": {},
   "outputs": [
    {
     "name": "stdout",
     "output_type": "stream",
     "text": [
      "1000/1000 [==============================] - 62s 62ms/step - loss: 0.5647 - acc: 0.7650\n"
     ]
    }
   ],
   "source": [
    "test_gen = first_pipeline(TEST_DATA_PATH, maxlen=rev_max_len, batch_size=int(test_samples/1000))\n",
    "\n",
    "evaluation_v1 = model_v1.evaluate(test_gen, steps=1000)"
   ]
  },
  {
   "cell_type": "markdown",
   "metadata": {},
   "source": [
    "### Step 4: Summary"
   ]
  },
  {
   "cell_type": "code",
   "execution_count": 26,
   "metadata": {},
   "outputs": [
    {
     "data": {
      "image/png": "[encoded data removed]",
      "text/plain": [
       "<IPython.core.display.Image object>"
      ]
     },
     "execution_count": 26,
     "metadata": {},
     "output_type": "execute_result"
    }
   ],
   "source": [
    "from tensorflow.keras.utils import plot_model\n",
    "\n",
    "plot_model(model_v1, show_shapes=True, to_file='best_review_sequential_model.png')"
   ]
  },
  {
   "cell_type": "markdown",
   "metadata": {},
   "source": [
    "## Design sequential architecture that takes review as an input and outputs sentiment.\n",
    "\n",
    "### Step 1: Preparing data pipeline for new architecture"
   ]
  },
  {
   "cell_type": "code",
   "execution_count": 27,
   "metadata": {},
   "outputs": [],
   "source": [
    "from tensorflow.keras.preprocessing.text import Tokenizer\n",
    "\n",
    "title_max_words = 10000\n",
    "\n",
    "title_tokenizer = Tokenizer(num_words=title_max_words)\n",
    "title_gen = flow_from_csv(path=TRAIN_DATA_PATH, col_idx=TITLE_IDX)\n",
    "\n",
    "title_tokenizer.fit_on_texts(title_gen)"
   ]
  },
  {
   "cell_type": "code",
   "execution_count": 28,
   "metadata": {},
   "outputs": [],
   "source": [
    "def second_pipeline(path, rev_maxlen, title_maxlen, batch_size=1, start_idx=0):\n",
    "    '''Produces generator that will be used to train neural network.\n",
    "\n",
    "            Parameters:\n",
    "            path (str): file system path to a csv file with data samples.\n",
    "\n",
    "            Returns:\n",
    "            generator: generator that returns tuple([list_of_reviews, list_of_titles], list_of_outputs).\n",
    "    '''\n",
    "    csv_file = open(path, 'r', errors='ignore')\n",
    "    reader = csv.reader(csv_file)\n",
    "\n",
    "    readed_cnt = start_idx\n",
    "    skip_rows(reader, start_idx)\n",
    "\n",
    "    while True:\n",
    "        reviews = []\n",
    "        titles = []\n",
    "        ratings = []\n",
    "\n",
    "        for _ in range(batch_size):\n",
    "            row = next(reader)\n",
    "            # Extracts ratings\n",
    "            rating = row[RATING_IDX]\n",
    "            rating_class = rating2class[rating]\n",
    "            ratings.append(rating_class)\n",
    "\n",
    "            # Extracts and clears reviews\n",
    "            review = prepare_text(row[REVIEW_IDX])\n",
    "            reviews.append(review)\n",
    "            \n",
    "            # Extracts and clears titles\n",
    "            title = prepare_text(row[TITLE_IDX])\n",
    "            titles.append(title)\n",
    "\n",
    "            readed_cnt += 1\n",
    "\n",
    "        # Tokenizes and pads sequences of review\n",
    "        reviews = rev_tokenizer.texts_to_sequences(reviews)\n",
    "        reviews = pad_sequences(reviews, maxlen=rev_maxlen)\n",
    "        \n",
    "        # Tokenizes and pads sequences of titles\n",
    "        titles = title_tokenizer.texts_to_sequences(titles)\n",
    "        titles = pad_sequences(titles, maxlen=title_maxlen)\n",
    "        \n",
    "        # Converts input to binary class matrix\n",
    "        ratings = to_categorical(ratings, num_classes=NUMBER_OF_CLASSES, dtype='uint8')\n",
    "            \n",
    "        yield [reviews, titles], ratings, [None]\n",
    "            \n",
    "        # Provides infinite data generation\n",
    "        if readed_cnt + batch_size >= train_samples - 1:\n",
    "            csv_file.close()\n",
    "            csv_file = open(path, 'r', errors='ignore')\n",
    "            reader = csv.reader(csv_file)\n",
    "            readed_cnt = start_idx\n",
    "            # Skips first start_idx rows\n",
    "            skip_rows(reader, start_idx)"
   ]
  },
  {
   "cell_type": "markdown",
   "metadata": {},
   "source": [
    "### Step 2: Design & Validate an RNN muliple inputs architecture"
   ]
  },
  {
   "cell_type": "code",
   "execution_count": 29,
   "metadata": {},
   "outputs": [],
   "source": [
    "from tensorflow.keras.models import Model\n",
    "from tensorflow.keras import layers\n",
    "\n",
    "rev_max_len = 100\n",
    "title_max_len = 20\n",
    "\n",
    "# Constructing new architecture of RNN that take two separate inputs (review and title)\n",
    "review_input_layer = layers.Input(shape=(rev_max_len,), dtype='int32', name='review_input_v2')\n",
    "embedded_review = layers.Embedding(rev_max_words, 128, input_length=rev_max_len)(review_input_layer)\n",
    "review_lstm = layers.LSTM(128, recurrent_dropout=0.4, dropout=0.4)(embedded_review)\n",
    "\n",
    "title_input_layer = layers.Input(shape=(title_max_len,), dtype='int32', name='title_input_v2')\n",
    "embedded_title = layers.Embedding(title_max_words, 16, input_length=rev_max_len)(title_input_layer)\n",
    "title_lstm = layers.LSTM(16, recurrent_dropout=0.2, dropout=0.2)(embedded_title)\n",
    "\n",
    "# Concatenating layers\n",
    "concatenated_layer = layers.concatenate([review_lstm, title_lstm], axis=-1)\n",
    "output_layer = layers.Dense(NUMBER_OF_CLASSES, activation='softmax', name='output_v2')(concatenated_layer)\n",
    "\n",
    "model_v2 = Model([review_input_layer, title_input_layer], output_layer)"
   ]
  },
  {
   "cell_type": "code",
   "execution_count": 30,
   "metadata": {},
   "outputs": [],
   "source": [
    "model_v2.compile(optimizer='rmsprop', loss='categorical_crossentropy', metrics=['acc'])"
   ]
  },
  {
   "cell_type": "code",
   "execution_count": 31,
   "metadata": {},
   "outputs": [
    {
     "name": "stdout",
     "output_type": "stream",
     "text": [
      "Model: \"model\"\n",
      "__________________________________________________________________________________________________\n",
      "Layer (type)                    Output Shape         Param #     Connected to                     \n",
      "==================================================================================================\n",
      "review_input_v2 (InputLayer)    [(None, 100)]        0                                            \n",
      "__________________________________________________________________________________________________\n",
      "title_input_v2 (InputLayer)     [(None, 20)]         0                                            \n",
      "__________________________________________________________________________________________________\n",
      "embedding (Embedding)           (None, 100, 128)     1280000     review_input_v2[0][0]            \n",
      "__________________________________________________________________________________________________\n",
      "embedding_1 (Embedding)         (None, 20, 16)       160000      title_input_v2[0][0]             \n",
      "__________________________________________________________________________________________________\n",
      "lstm (LSTM)                     (None, 128)          131584      embedding[0][0]                  \n",
      "__________________________________________________________________________________________________\n",
      "lstm_1 (LSTM)                   (None, 16)           2112        embedding_1[0][0]                \n",
      "__________________________________________________________________________________________________\n",
      "concatenate (Concatenate)       (None, 144)          0           lstm[0][0]                       \n",
      "                                                                 lstm_1[0][0]                     \n",
      "__________________________________________________________________________________________________\n",
      "output_v2 (Dense)               (None, 3)            435         concatenate[0][0]                \n",
      "==================================================================================================\n",
      "Total params: 1,574,131\n",
      "Trainable params: 1,574,131\n",
      "Non-trainable params: 0\n",
      "__________________________________________________________________________________________________\n"
     ]
    }
   ],
   "source": [
    "model_v2.summary()"
   ]
  },
  {
   "cell_type": "code",
   "execution_count": 32,
   "metadata": {},
   "outputs": [
    {
     "name": "stdout",
     "output_type": "stream",
     "text": [
      "Train for 1000 steps, validate for 500 steps\n",
      "Epoch 1/40\n",
      "1000/1000 - 250s - loss: 0.7296 - acc: 0.6870 - val_loss: 0.6229 - val_acc: 0.7382\n",
      "Epoch 2/40\n",
      "1000/1000 - 247s - loss: 0.6348 - acc: 0.7345 - val_loss: 0.5874 - val_acc: 0.7560\n",
      "Epoch 3/40\n",
      "1000/1000 - 248s - loss: 0.6035 - acc: 0.7481 - val_loss: 0.5709 - val_acc: 0.7617\n",
      "Epoch 4/40\n",
      "1000/1000 - 247s - loss: 0.5851 - acc: 0.7565 - val_loss: 0.5603 - val_acc: 0.7673\n",
      "Epoch 5/40\n",
      "1000/1000 - 247s - loss: 0.5692 - acc: 0.7639 - val_loss: 0.5434 - val_acc: 0.7753\n",
      "Epoch 6/40\n",
      "1000/1000 - 247s - loss: 0.5553 - acc: 0.7711 - val_loss: 0.5521 - val_acc: 0.7707\n",
      "Epoch 7/40\n",
      "1000/1000 - 262s - loss: 0.5512 - acc: 0.7717 - val_loss: 0.5359 - val_acc: 0.7786\n",
      "Epoch 8/40\n",
      "1000/1000 - 250s - loss: 0.5428 - acc: 0.7757 - val_loss: 0.5363 - val_acc: 0.7797\n",
      "Epoch 9/40\n",
      "1000/1000 - 247s - loss: 0.5368 - acc: 0.7789 - val_loss: 0.5237 - val_acc: 0.7835\n",
      "Epoch 10/40\n",
      "1000/1000 - 248s - loss: 0.5354 - acc: 0.7785 - val_loss: 0.5202 - val_acc: 0.7857\n",
      "Epoch 11/40\n",
      "1000/1000 - 248s - loss: 0.5283 - acc: 0.7828 - val_loss: 0.5144 - val_acc: 0.7884\n",
      "Epoch 12/40\n",
      "1000/1000 - 247s - loss: 0.5346 - acc: 0.7794 - val_loss: 0.5112 - val_acc: 0.7894\n",
      "Epoch 13/40\n",
      "1000/1000 - 247s - loss: 0.5318 - acc: 0.7818 - val_loss: 0.5140 - val_acc: 0.7886\n",
      "Epoch 14/40\n",
      "1000/1000 - 248s - loss: 0.5329 - acc: 0.7785 - val_loss: 0.5081 - val_acc: 0.7898\n",
      "Epoch 15/40\n",
      "1000/1000 - 247s - loss: 0.5279 - acc: 0.7816 - val_loss: 0.5060 - val_acc: 0.7912\n",
      "Epoch 16/40\n",
      "1000/1000 - 248s - loss: 0.5263 - acc: 0.7834 - val_loss: 0.5041 - val_acc: 0.7927\n",
      "Epoch 17/40\n",
      "1000/1000 - 247s - loss: 0.5202 - acc: 0.7859 - val_loss: 0.5010 - val_acc: 0.7936\n",
      "Epoch 18/40\n",
      "1000/1000 - 248s - loss: 0.5150 - acc: 0.7879 - val_loss: 0.5058 - val_acc: 0.7924\n",
      "Epoch 19/40\n",
      "1000/1000 - 247s - loss: 0.5157 - acc: 0.7868 - val_loss: 0.5013 - val_acc: 0.7936\n",
      "Epoch 20/40\n",
      "1000/1000 - 247s - loss: 0.5123 - acc: 0.7888 - val_loss: 0.4998 - val_acc: 0.7940\n",
      "Epoch 21/40\n",
      "1000/1000 - 247s - loss: 0.5102 - acc: 0.7901 - val_loss: 0.4952 - val_acc: 0.7965\n",
      "Epoch 22/40\n",
      "1000/1000 - 248s - loss: 0.5113 - acc: 0.7889 - val_loss: 0.4948 - val_acc: 0.7968\n",
      "Epoch 23/40\n",
      "1000/1000 - 247s - loss: 0.5072 - acc: 0.7918 - val_loss: 0.4932 - val_acc: 0.7980\n",
      "Epoch 24/40\n",
      "1000/1000 - 247s - loss: 0.5168 - acc: 0.7878 - val_loss: 0.4994 - val_acc: 0.7946\n",
      "Epoch 25/40\n",
      "1000/1000 - 249s - loss: 0.5145 - acc: 0.7886 - val_loss: 0.4873 - val_acc: 0.8015\n",
      "Epoch 26/40\n",
      "1000/1000 - 252s - loss: 0.5148 - acc: 0.7873 - val_loss: 0.4931 - val_acc: 0.7969\n",
      "Epoch 27/40\n",
      "1000/1000 - 248s - loss: 0.5130 - acc: 0.7888 - val_loss: 0.5018 - val_acc: 0.7939\n",
      "Epoch 28/40\n",
      "1000/1000 - 248s - loss: 0.5124 - acc: 0.7889 - val_loss: 0.4880 - val_acc: 0.7983\n",
      "Epoch 29/40\n",
      "1000/1000 - 248s - loss: 0.5060 - acc: 0.7924 - val_loss: 0.4921 - val_acc: 0.7986\n",
      "Epoch 30/40\n",
      "1000/1000 - 248s - loss: 0.5046 - acc: 0.7926 - val_loss: 0.4914 - val_acc: 0.7978\n",
      "Epoch 31/40\n",
      "1000/1000 - 248s - loss: 0.5035 - acc: 0.7929 - val_loss: 0.4906 - val_acc: 0.7976\n",
      "Epoch 32/40\n",
      "1000/1000 - 248s - loss: 0.5005 - acc: 0.7940 - val_loss: 0.4902 - val_acc: 0.7986\n",
      "Epoch 33/40\n",
      "1000/1000 - 247s - loss: 0.5019 - acc: 0.7939 - val_loss: 0.4866 - val_acc: 0.8013\n",
      "Epoch 34/40\n",
      "1000/1000 - 247s - loss: 0.5006 - acc: 0.7942 - val_loss: 0.4932 - val_acc: 0.7988\n",
      "Epoch 35/40\n",
      "1000/1000 - 248s - loss: 0.4995 - acc: 0.7950 - val_loss: 0.4865 - val_acc: 0.8003\n",
      "Epoch 36/40\n",
      "1000/1000 - 248s - loss: 0.5098 - acc: 0.7908 - val_loss: 0.4883 - val_acc: 0.7994\n",
      "Epoch 37/40\n",
      "1000/1000 - 248s - loss: 0.5093 - acc: 0.7902 - val_loss: 0.4843 - val_acc: 0.8009\n",
      "Epoch 38/40\n",
      "1000/1000 - 247s - loss: 0.5075 - acc: 0.7909 - val_loss: 0.4821 - val_acc: 0.8014\n",
      "Epoch 39/40\n",
      "1000/1000 - 247s - loss: 0.5057 - acc: 0.7921 - val_loss: 0.4825 - val_acc: 0.8021\n",
      "Epoch 40/40\n",
      "1000/1000 - 249s - loss: 0.5036 - acc: 0.7932 - val_loss: 0.4810 - val_acc: 0.8030\n"
     ]
    }
   ],
   "source": [
    "data_gen = second_pipeline(TRAIN_DATA_PATH, rev_max_len, title_max_len, batch_size=256)\n",
    "val_gen = second_pipeline(TRAIN_DATA_PATH, rev_max_len, title_max_len, batch_size=256, start_idx=2*10^6)\n",
    "\n",
    "history = model_v2.fit(data_gen, steps_per_epoch=1000,\n",
    "                       epochs=40,\n",
    "                       validation_data=val_gen,\n",
    "                       validation_steps=500,\n",
    "                       callbacks=tensorboard_callback('best_multiple_input_model'),\n",
    "                       verbose=2)"
   ]
  },
  {
   "cell_type": "code",
   "execution_count": 33,
   "metadata": {},
   "outputs": [
    {
     "data": {
      "image/png": "[encoded data removed]",
      "text/plain": [
       "<Figure size 432x288 with 1 Axes>"
      ]
     },
     "metadata": {
      "needs_background": "light"
     },
     "output_type": "display_data"
    }
   ],
   "source": [
    "plot_accuracy(history)"
   ]
  },
  {
   "cell_type": "code",
   "execution_count": 34,
   "metadata": {},
   "outputs": [
    {
     "data": {
      "image/png": "[encoded data removed]",
      "text/plain": [
       "<Figure size 432x288 with 1 Axes>"
      ]
     },
     "metadata": {
      "needs_background": "light"
     },
     "output_type": "display_data"
    }
   ],
   "source": [
    "plot_loss(history)"
   ]
  },
  {
   "cell_type": "code",
   "execution_count": 35,
   "metadata": {},
   "outputs": [],
   "source": [
    "model_v2.save('best_multiple_input_model.h5')"
   ]
  },
  {
   "cell_type": "markdown",
   "metadata": {},
   "source": [
    "### Step 3: Test obtain model on new data"
   ]
  },
  {
   "cell_type": "code",
   "execution_count": 36,
   "metadata": {},
   "outputs": [
    {
     "name": "stdout",
     "output_type": "stream",
     "text": [
      "1000/1000 [==============================] - 86s 86ms/step - loss: 0.4994 - acc: 0.7960\n"
     ]
    }
   ],
   "source": [
    "test_gen = second_pipeline(TEST_DATA_PATH, rev_max_len, title_max_len, batch_size=int(test_samples/1000))\n",
    "\n",
    "evaluation_v2 = model_v2.evaluate(test_gen, steps=1000)"
   ]
  },
  {
   "cell_type": "markdown",
   "metadata": {},
   "source": [
    "### Step 4: Summary"
   ]
  },
  {
   "cell_type": "code",
   "execution_count": 37,
   "metadata": {},
   "outputs": [
    {
     "data": {
      "image/png": "[encoded data removed]",
      "text/plain": [
       "<IPython.core.display.Image object>"
      ]
     },
     "execution_count": 37,
     "metadata": {},
     "output_type": "execute_result"
    }
   ],
   "source": [
    "from tensorflow.keras.utils import plot_model\n",
    "\n",
    "plot_model(model_v2, show_shapes=True, to_file='best_multiple_input_model.png')"
   ]
  },
  {
   "cell_type": "markdown",
   "metadata": {},
   "source": [
    "## Design sequential architecture that takes title as an input and outputs sentiment.\n",
    "\n",
    "### Step 1: Preparing data pipeline for new architecture"
   ]
  },
  {
   "cell_type": "code",
   "execution_count": 38,
   "metadata": {},
   "outputs": [],
   "source": [
    "def third_pipeline(path, maxlen, batch_size=1, start_idx=0):\n",
    "    '''Produces generator that will be used to train neural network.\n",
    "\n",
    "            Parameters:\n",
    "            path (str): file system path to a csv file with data samples.\n",
    "\n",
    "            Returns:\n",
    "            generator: generator that returns tuple(list_of_titles, list_of_outputs).\n",
    "    '''\n",
    "    csv_file = open(path, 'r', errors='ignore')\n",
    "    reader = csv.reader(csv_file)\n",
    "\n",
    "    readed_cnt = start_idx\n",
    "    skip_rows(reader, start_idx)\n",
    "\n",
    "    while True:\n",
    "        titles = []\n",
    "        ratings = []\n",
    "\n",
    "        for _ in range(batch_size):\n",
    "            row = next(reader)\n",
    "            # Extracts ratings\n",
    "            rating = row[RATING_IDX]\n",
    "            rating_class = rating2class[rating]\n",
    "            ratings.append(rating_class)\n",
    "\n",
    "            # Extracts and clears titles\n",
    "            title = prepare_text(row[TITLE_IDX])\n",
    "            titles.append(title)\n",
    "\n",
    "            readed_cnt += 1\n",
    "\n",
    "        # Tokenizes and pads sequences\n",
    "        titles = title_tokenizer.texts_to_sequences(titles)\n",
    "        titles = pad_sequences(titles, maxlen=maxlen)\n",
    "        \n",
    "        # Converts input to binary class matrix\n",
    "        ratings = to_categorical(ratings, num_classes=NUMBER_OF_CLASSES, dtype='uint8')\n",
    "            \n",
    "        yield titles, ratings, [None]\n",
    "            \n",
    "        # Provides infinite data generation\n",
    "        if readed_cnt + batch_size >= train_samples - 1:\n",
    "            csv_file.close()\n",
    "            csv_file = open(path, 'r', errors='ignore')\n",
    "            reader = csv.reader(csv_file)\n",
    "            readed_cnt = start_idx\n",
    "            # Skips first start_idx rows\n",
    "            skip_rows(reader, start_idx)"
   ]
  },
  {
   "cell_type": "markdown",
   "metadata": {},
   "source": [
    "### Step 2: Design & Validate new architecture"
   ]
  },
  {
   "cell_type": "code",
   "execution_count": 39,
   "metadata": {},
   "outputs": [],
   "source": [
    "model_v3 = tf.keras.models.Sequential([\n",
    "    tf.keras.layers.Embedding(title_max_words, 128, input_length=title_max_len, name='input_v3'),\n",
    "    tf.keras.layers.LSTM(16, recurrent_dropout=0.2, dropout=0.2),\n",
    "    tf.keras.layers.Dense(3, activation='softmax', name='output_v3')\n",
    "])\n",
    "\n",
    "model_v3.compile(optimizer='rmsprop', loss='categorical_crossentropy', metrics=['acc'])"
   ]
  },
  {
   "cell_type": "code",
   "execution_count": 40,
   "metadata": {},
   "outputs": [
    {
     "name": "stdout",
     "output_type": "stream",
     "text": [
      "Model: \"sequential_1\"\n",
      "_________________________________________________________________\n",
      "Layer (type)                 Output Shape              Param #   \n",
      "=================================================================\n",
      "input_v3 (Embedding)         (None, 20, 128)           1280000   \n",
      "_________________________________________________________________\n",
      "lstm_2 (LSTM)                (None, 16)                9280      \n",
      "_________________________________________________________________\n",
      "output_v3 (Dense)            (None, 3)                 51        \n",
      "=================================================================\n",
      "Total params: 1,289,331\n",
      "Trainable params: 1,289,331\n",
      "Non-trainable params: 0\n",
      "_________________________________________________________________\n"
     ]
    }
   ],
   "source": [
    "model_v3.summary()"
   ]
  },
  {
   "cell_type": "code",
   "execution_count": 42,
   "metadata": {},
   "outputs": [
    {
     "name": "stdout",
     "output_type": "stream",
     "text": [
      "Train for 1000 steps, validate for 500 steps\n",
      "Epoch 1/40\n",
      "1000/1000 - 63s - loss: 0.8107 - acc: 0.6422 - val_loss: 0.7460 - val_acc: 0.6756\n",
      "Epoch 2/40\n",
      "1000/1000 - 56s - loss: 0.7494 - acc: 0.6719 - val_loss: 0.7218 - val_acc: 0.6867\n",
      "Epoch 3/40\n",
      "1000/1000 - 56s - loss: 0.7323 - acc: 0.6805 - val_loss: 0.7173 - val_acc: 0.6875\n",
      "Epoch 4/40\n",
      "1000/1000 - 56s - loss: 0.7235 - acc: 0.6848 - val_loss: 0.7149 - val_acc: 0.6887\n",
      "Epoch 5/40\n",
      "1000/1000 - 55s - loss: 0.7144 - acc: 0.6902 - val_loss: 0.7074 - val_acc: 0.6918\n",
      "Epoch 6/40\n",
      "1000/1000 - 55s - loss: 0.7066 - acc: 0.6941 - val_loss: 0.7054 - val_acc: 0.6940\n",
      "Epoch 7/40\n",
      "1000/1000 - 56s - loss: 0.7053 - acc: 0.6953 - val_loss: 0.7026 - val_acc: 0.6946\n",
      "Epoch 8/40\n",
      "1000/1000 - 55s - loss: 0.6976 - acc: 0.6994 - val_loss: 0.6970 - val_acc: 0.6975\n",
      "Epoch 9/40\n",
      "1000/1000 - 55s - loss: 0.6918 - acc: 0.7020 - val_loss: 0.6947 - val_acc: 0.7006\n",
      "Epoch 10/40\n",
      "1000/1000 - 57s - loss: 0.6922 - acc: 0.7016 - val_loss: 0.6898 - val_acc: 0.7026\n",
      "Epoch 11/40\n",
      "1000/1000 - 57s - loss: 0.6875 - acc: 0.7037 - val_loss: 0.6875 - val_acc: 0.7045\n",
      "Epoch 12/40\n",
      "1000/1000 - 55s - loss: 0.6961 - acc: 0.6995 - val_loss: 0.6844 - val_acc: 0.7044\n",
      "Epoch 13/40\n",
      "1000/1000 - 55s - loss: 0.7039 - acc: 0.6949 - val_loss: 0.6873 - val_acc: 0.7029\n",
      "Epoch 14/40\n",
      "1000/1000 - 57s - loss: 0.7052 - acc: 0.6940 - val_loss: 0.6832 - val_acc: 0.7066\n",
      "Epoch 15/40\n",
      "1000/1000 - 54s - loss: 0.7008 - acc: 0.6965 - val_loss: 0.6818 - val_acc: 0.7078\n",
      "Epoch 16/40\n",
      "1000/1000 - 55s - loss: 0.6949 - acc: 0.6991 - val_loss: 0.6793 - val_acc: 0.7078\n",
      "Epoch 17/40\n",
      "1000/1000 - 58s - loss: 0.6919 - acc: 0.7017 - val_loss: 0.6739 - val_acc: 0.7113\n",
      "Epoch 18/40\n",
      "1000/1000 - 54s - loss: 0.6869 - acc: 0.7045 - val_loss: 0.6797 - val_acc: 0.7095\n",
      "Epoch 19/40\n",
      "1000/1000 - 58s - loss: 0.6866 - acc: 0.7043 - val_loss: 0.6734 - val_acc: 0.7112\n",
      "Epoch 20/40\n",
      "1000/1000 - 55s - loss: 0.6835 - acc: 0.7070 - val_loss: 0.6753 - val_acc: 0.7100\n",
      "Epoch 21/40\n",
      "1000/1000 - 58s - loss: 0.6787 - acc: 0.7092 - val_loss: 0.6703 - val_acc: 0.7123\n",
      "Epoch 22/40\n",
      "1000/1000 - 56s - loss: 0.6796 - acc: 0.7078 - val_loss: 0.6712 - val_acc: 0.7109\n",
      "Epoch 23/40\n",
      "1000/1000 - 55s - loss: 0.6773 - acc: 0.7084 - val_loss: 0.6705 - val_acc: 0.7132\n",
      "Epoch 24/40\n",
      "1000/1000 - 58s - loss: 0.6933 - acc: 0.7014 - val_loss: 0.6861 - val_acc: 0.7035\n",
      "Epoch 25/40\n",
      "1000/1000 - 55s - loss: 0.6954 - acc: 0.6990 - val_loss: 0.6779 - val_acc: 0.7074\n",
      "Epoch 26/40\n",
      "1000/1000 - 58s - loss: 0.6949 - acc: 0.6999 - val_loss: 0.6836 - val_acc: 0.7050\n",
      "Epoch 27/40\n",
      "1000/1000 - 56s - loss: 0.6925 - acc: 0.7016 - val_loss: 0.6871 - val_acc: 0.7038\n",
      "Epoch 28/40\n",
      "1000/1000 - 60s - loss: 0.6894 - acc: 0.7017 - val_loss: 0.6808 - val_acc: 0.7055\n",
      "Epoch 29/40\n",
      "1000/1000 - 55s - loss: 0.6834 - acc: 0.7059 - val_loss: 0.6800 - val_acc: 0.7074\n",
      "Epoch 30/40\n",
      "1000/1000 - 58s - loss: 0.6825 - acc: 0.7064 - val_loss: 0.6805 - val_acc: 0.7062\n",
      "Epoch 31/40\n",
      "1000/1000 - 55s - loss: 0.6807 - acc: 0.7079 - val_loss: 0.6784 - val_acc: 0.7065\n",
      "Epoch 32/40\n",
      "1000/1000 - 58s - loss: 0.6754 - acc: 0.7101 - val_loss: 0.6793 - val_acc: 0.7076\n",
      "Epoch 33/40\n",
      "1000/1000 - 54s - loss: 0.6756 - acc: 0.7111 - val_loss: 0.6756 - val_acc: 0.7101\n",
      "Epoch 34/40\n",
      "1000/1000 - 55s - loss: 0.6756 - acc: 0.7092 - val_loss: 0.6727 - val_acc: 0.7101\n",
      "Epoch 35/40\n",
      "1000/1000 - 58s - loss: 0.6737 - acc: 0.7109 - val_loss: 0.6730 - val_acc: 0.7114\n",
      "Epoch 36/40\n",
      "1000/1000 - 55s - loss: 0.6934 - acc: 0.7006 - val_loss: 0.6748 - val_acc: 0.7096\n",
      "Epoch 37/40\n",
      "1000/1000 - 57s - loss: 0.6918 - acc: 0.7018 - val_loss: 0.6728 - val_acc: 0.7109\n",
      "Epoch 38/40\n",
      "1000/1000 - 57s - loss: 0.6905 - acc: 0.7025 - val_loss: 0.6697 - val_acc: 0.7131\n",
      "Epoch 39/40\n",
      "1000/1000 - 61s - loss: 0.6868 - acc: 0.7042 - val_loss: 0.6690 - val_acc: 0.7137\n",
      "Epoch 40/40\n",
      "1000/1000 - 64s - loss: 0.6860 - acc: 0.7039 - val_loss: 0.6644 - val_acc: 0.7157\n"
     ]
    }
   ],
   "source": [
    "data_gen = third_pipeline(TRAIN_DATA_PATH, title_max_len, batch_size=256)\n",
    "val_gen = third_pipeline(TRAIN_DATA_PATH, title_max_len, batch_size=256, start_idx=2*10^6)\n",
    "\n",
    "history = model_v3.fit(data_gen, steps_per_epoch=1000,\n",
    "                       epochs=40,\n",
    "                       validation_data=val_gen,\n",
    "                       validation_steps=500,\n",
    "                       callbacks=tensorboard_callback('best_sequential_title_model'),\n",
    "                       verbose=2)"
   ]
  },
  {
   "cell_type": "code",
   "execution_count": 43,
   "metadata": {},
   "outputs": [
    {
     "data": {
      "image/png": "[encoded data removed]",
      "text/plain": [
       "<Figure size 432x288 with 1 Axes>"
      ]
     },
     "metadata": {
      "needs_background": "light"
     },
     "output_type": "display_data"
    }
   ],
   "source": [
    "plot_accuracy(history)"
   ]
  },
  {
   "cell_type": "code",
   "execution_count": 44,
   "metadata": {},
   "outputs": [
    {
     "data": {
      "image/png": "[encoded data removed]",
      "text/plain": [
       "<Figure size 432x288 with 1 Axes>"
      ]
     },
     "metadata": {
      "needs_background": "light"
     },
     "output_type": "display_data"
    }
   ],
   "source": [
    "plot_loss(history)"
   ]
  },
  {
   "cell_type": "code",
   "execution_count": 49,
   "metadata": {},
   "outputs": [],
   "source": [
    "model_v3.save('best_sequetial_title_model.h5')"
   ]
  },
  {
   "cell_type": "markdown",
   "metadata": {},
   "source": [
    "### Step 3: Test obtain model on new data"
   ]
  },
  {
   "cell_type": "code",
   "execution_count": 47,
   "metadata": {},
   "outputs": [
    {
     "name": "stdout",
     "output_type": "stream",
     "text": [
      "1000/1000 [==============================] - 23s 23ms/step - loss: 0.6842 - acc: 0.7061\n"
     ]
    }
   ],
   "source": [
    "test_gen = third_pipeline(TEST_DATA_PATH, title_max_len, batch_size=int(test_samples/1000))\n",
    "\n",
    "evaluation_v3 = model_v3.evaluate(test_gen, steps=1000)"
   ]
  },
  {
   "cell_type": "markdown",
   "metadata": {},
   "source": [
    "### Step 4: Summary"
   ]
  },
  {
   "cell_type": "code",
   "execution_count": 48,
   "metadata": {},
   "outputs": [
    {
     "data": {
      "image/png": "[encoded data removed]",
      "text/plain": [
       "<IPython.core.display.Image object>"
      ]
     },
     "execution_count": 48,
     "metadata": {},
     "output_type": "execute_result"
    }
   ],
   "source": [
    "from tensorflow.keras.utils import plot_model\n",
    "\n",
    "plot_model(model_v3, show_shapes=True, to_file='best_title_sequential_model.png')"
   ]
  }
 ],
 "metadata": {
  "kernelspec": {
   "display_name": "Python 3",
   "language": "python",
   "name": "python3"
  },
  "language_info": {
   "codemirror_mode": {
    "name": "ipython",
    "version": 3
   },
   "file_extension": ".py",
   "mimetype": "text/x-python",
   "name": "python",
   "nbconvert_exporter": "python",
   "pygments_lexer": "ipython3",
   "version": "3.7.4"
  }
 },
 "nbformat": 4,
 "nbformat_minor": 2
}
