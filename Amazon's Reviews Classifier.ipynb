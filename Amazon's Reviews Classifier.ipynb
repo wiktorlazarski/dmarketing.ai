{
 "cells": [
  {
   "cell_type": "markdown",
   "metadata": {},
   "source": [
    "# dmarketing.ai\n",
    "\n",
    "## Deep Learning\n",
    "\n",
    "## Project: Build a reviews' classifier based on Amazon's reviews dataset\n",
    "\n",
    "*__dmarketing.ai__* (*Digital Marketing AI*) is a deep learning project focused on building severally, vastly diverse usage, neural net models. <br /><br /> \n",
    "In this _Jupyter Notebook_ you will find step by step build Recurrent Neural Network that can perform review sentiment classification and deside whether customer review was : *'negative', 'neutral' , 'positive'*. <br /> \n",
    "Dataset for building a classifier were downloaded from [link](https://registry.opendata.aws/amazon-reviews/#usageexamples) and contains *train.csv* and *test.csv* files which contain training and testing data respectivly."
   ]
  },
  {
   "cell_type": "markdown",
   "metadata": {},
   "source": [
    "## Design sequential architecture that takes review as an input and outputs sentiment.\n",
    "\n",
    "### Step 1: Load & Explore Dataset"
   ]
  },
  {
   "cell_type": "code",
   "execution_count": null,
   "metadata": {},
   "outputs": [],
   "source": [
    "import os\n",
    "\n",
    "DATA_FOLDER_PATH = \"./data\"\n",
    "TRAIN_DATA_PATH = os.path.join(DATA_FOLDER_PATH, 'train.csv')\n",
    "TEST_DATA_PATH = os.path.join(DATA_FOLDER_PATH, 'test.csv')"
   ]
  },
  {
   "cell_type": "markdown",
   "metadata": {},
   "source": [
    "#### Counting the number of samples available in the csv_file.\n",
    "\n",
    "I constructed a generator by which I will be iterate through CSV files due to their large size which makes them impossible to load into RAM memory."
   ]
  },
  {
   "cell_type": "code",
   "execution_count": null,
   "metadata": {},
   "outputs": [],
   "source": [
    "def count_samples(csv_file_path):\n",
    "    '''Counts samples of data containes in a single csv file.\n",
    "\n",
    "            Parameters:\n",
    "            csv_file_path (str): file system path to a csv file with data samples.\n",
    "\n",
    "            Returns:\n",
    "            sample_cnt (int): number of samples.\n",
    "    '''\n",
    "    samples_cnt = 0\n",
    "\n",
    "    with open(csv_file_path, 'r', errors='ignore') as csv_file:\n",
    "        for lines in csv_file:\n",
    "            samples_cnt += 1\n",
    "    return samples_cnt"
   ]
  },
  {
   "cell_type": "code",
   "execution_count": null,
   "metadata": {},
   "outputs": [],
   "source": [
    "train_samples = count_samples(TRAIN_DATA_PATH)\n",
    "test_samples = count_samples(TEST_DATA_PATH)"
   ]
  },
  {
   "cell_type": "code",
   "execution_count": null,
   "metadata": {},
   "outputs": [],
   "source": [
    "print(\"Number of train samples : {}\\nNumber of test samples : {}\".format(train_samples, test_samples))"
   ]
  },
  {
   "cell_type": "markdown",
   "metadata": {},
   "source": [
    "#### Constructing a function that allows to iterate over choosen column in CSV file.\n",
    "The data inside CSV file contain three columns containing following features:\n",
    "\n",
    "- `'rating'` is an integer that represents rating of a corresponding review.\n",
    "- `'title'` is a string that represents title of a corresponding review.\n",
    "- `'review'` is a string that constain text of a review. "
   ]
  },
  {
   "cell_type": "code",
   "execution_count": null,
   "metadata": {},
   "outputs": [],
   "source": [
    "import csv, string\n",
    "\n",
    "RATING_IDX = 0\n",
    "TITLE_IDX = 1\n",
    "REVIEW_IDX = 2\n",
    "\n",
    "def flow_from_csv(path=None, col_idx=REVIEW_IDX):\n",
    "    '''Produces generator that iterates through col_idxes in csv file containg data.\n",
    "                \n",
    "            Parameters:\n",
    "            path (str): file system path to a csv file with data samples.\n",
    "            loc_idx(int): number of column.\n",
    "                \n",
    "            Returns:\n",
    "            generator: generator that returns data from each row specified by col_idx.\n",
    "     '''\n",
    "    with open(path, 'r', errors='ignore') as csv_file:\n",
    "        reader = csv.reader(csv_file)\n",
    "        \n",
    "        readed_cnt = 0\n",
    "        while readed_cnt != train_samples - 1:\n",
    "            row = next(reader)\n",
    "            \n",
    "            text = row[col_idx].lower()\n",
    "            text = text.translate(str.maketrans('', '', string.punctuation))\n",
    "            \n",
    "            readed_cnt += 1\n",
    "            yield text\n",
    "            \n",
    "    return"
   ]
  },
  {
   "cell_type": "markdown",
   "metadata": {},
   "source": [
    "#### Creating a Tokenizer class object and fiting it on reviews in train dataset.\n",
    "\n",
    "Tokenizer object will be then used to : create sequences out of strings of reviews, padding those sequences to a given length. <br/>\n",
    "For more detailed description visit [keras.preprocessing.text.Tokenizer documentation](https://keras.io/preprocessing/text/)"
   ]
  },
  {
   "cell_type": "code",
   "execution_count": null,
   "metadata": {},
   "outputs": [],
   "source": [
    "import tensorflow as tf\n",
    "from tensorflow.keras.preprocessing.text import Tokenizer\n",
    "\n",
    "rev_max_words = 10000\n",
    "\n",
    "rev_tokenizer = Tokenizer(num_words=rev_max_words)\n",
    "review_gen = flow_from_csv(TRAIN_DATA_PATH, REVIEW_IDX)\n",
    "\n",
    "rev_tokenizer.fit_on_texts(review_gen)"
   ]
  },
  {
   "cell_type": "markdown",
   "metadata": {},
   "source": [
    "#### Based on the tokenizer determining the most frequently occured words."
   ]
  },
  {
   "cell_type": "code",
   "execution_count": null,
   "metadata": {},
   "outputs": [],
   "source": [
    "import numpy as np\n",
    "import matplotlib.pyplot as plt\n",
    "%matplotlib inline\n",
    "\n",
    "word_cnt = rev_tokenizer.word_counts\n",
    "\n",
    "# Extracts the most frequent words\n",
    "most_freq_words = 30\n",
    "\n",
    "sorted_items = list(word_cnt.items())\n",
    "sorted_items.sort(key=lambda item: item[-1], reverse=True)\n",
    "\n",
    "most_freq_keys = [k for k, v in sorted_items[:most_freq_words]]\n",
    "most_freq_values = [v for k, v in sorted_items[:most_freq_words]]\n",
    "\n",
    "# Draws bar char of most frequent words\n",
    "plt.figure(figsize=(10, 10))\n",
    "plt.title(str(most_freq_words) + \" most frequent words\")\n",
    "plt.xlabel(\"Word\")\n",
    "plt.xticks(rotation=-90)\n",
    "plt.ylabel(\"Occurance\")\n",
    "plt.bar(most_freq_keys, most_freq_values)"
   ]
  },
  {
   "cell_type": "markdown",
   "metadata": {},
   "source": [
    "### Step 2: Design & Validate a Model Architecture \n",
    "\n",
    "\n",
    "#### Creating data pipeline.\n",
    "\n",
    "Creating a data pipeline that will produce generator returning *tuple(inputs, targets)* that will be used to train neural network model."
   ]
  },
  {
   "cell_type": "code",
   "execution_count": null,
   "metadata": {},
   "outputs": [],
   "source": [
    "from tensorflow.keras.preprocessing.sequence import pad_sequences\n",
    "from tensorflow.keras.utils import to_categorical\n",
    "\n",
    "classes = [\"negative\", \"neutral\", \"positive\"]\n",
    "# Returns index of a corresponding class in classes list\n",
    "rating2class = {'1': 0,\n",
    "                '2': 0,\n",
    "                '3': 1,\n",
    "                '4': 2,\n",
    "                '5': 2}\n",
    "\n",
    "NUMBER_OF_CLASSES = len(classes)         # Returns number of unique values in rating2class dict "
   ]
  },
  {
   "cell_type": "code",
   "execution_count": null,
   "metadata": {},
   "outputs": [],
   "source": [
    "def skip_rows(gen, num):\n",
    "    '''Skips rows of csv file read by genertor.\n",
    "\n",
    "            Parameters:\n",
    "            gen (generator): csv file reader generator.\n",
    "            num (int): number of row to be skipped.\n",
    "    '''\n",
    "    skipped = 0\n",
    "    while skipped != num:\n",
    "        next(gen)\n",
    "        skipped += 1;"
   ]
  },
  {
   "cell_type": "code",
   "execution_count": null,
   "metadata": {},
   "outputs": [],
   "source": [
    "def prepare_text(text):\n",
    "    '''Returns text without punctuations and all characters are lowercase. Input text remains unmodified.\n",
    "\n",
    "            Parameters:\n",
    "            text (str): text based on which new modified string is returned.\n",
    "\n",
    "            Returns:\n",
    "            retv (str): returned modified string.\n",
    "    '''\n",
    "    retv = text.lower()\n",
    "    retv = retv.translate(str.maketrans('', '', string.punctuation))\n",
    "    return retv"
   ]
  },
  {
   "cell_type": "code",
   "execution_count": null,
   "metadata": {},
   "outputs": [],
   "source": [
    "def first_pipeline(path, maxlen, batch_size=1, start_idx=0):\n",
    "    '''Produces generator that will be used to train neural network.\n",
    "\n",
    "            Parameters:\n",
    "            path (str): file system path to a csv file with data samples.\n",
    "\n",
    "            Returns:\n",
    "            generator: generator that returns tuple(list_of_reviews, list_of_outputs).\n",
    "    '''\n",
    "    csv_file = open(path, 'r', errors='ignore')\n",
    "    reader = csv.reader(csv_file)\n",
    "\n",
    "    readed_cnt = start_idx\n",
    "    skip_rows(reader, start_idx)\n",
    "\n",
    "    while True:\n",
    "        reviews = []\n",
    "        ratings = []\n",
    "\n",
    "        for _ in range(batch_size):\n",
    "            row = next(reader)\n",
    "            # Extracts ratings\n",
    "            rating = row[RATING_IDX]\n",
    "            rating_class = rating2class[rating]\n",
    "            ratings.append(rating_class)\n",
    "\n",
    "            # Extracts and clears reviews\n",
    "            review = prepare_text(row[REVIEW_IDX])\n",
    "            reviews.append(review)\n",
    "\n",
    "            readed_cnt += 1\n",
    "\n",
    "        # Tokenizes and pads sequences\n",
    "        reviews = rev_tokenizer.texts_to_sequences(reviews)\n",
    "        reviews = pad_sequences(reviews, maxlen=maxlen)\n",
    "        \n",
    "        # Converts input to binary class matrix\n",
    "        ratings = to_categorical(ratings, num_classes=NUMBER_OF_CLASSES, dtype='uint8')\n",
    "            \n",
    "        yield reviews, ratings, [None]\n",
    "            \n",
    "        # Provides infinite data generation\n",
    "        if readed_cnt + batch_size >= train_samples - 1:\n",
    "            csv_file.close()\n",
    "            csv_file = open(path, 'r', errors='ignore')\n",
    "            reader = csv.reader(csv_file)\n",
    "            readed_cnt = start_idx\n",
    "            # Skips first start_idx rows\n",
    "            skip_rows(reader, start_idx)"
   ]
  },
  {
   "cell_type": "markdown",
   "metadata": {},
   "source": [
    "#### Creating and training model.\n",
    "\n",
    "Creating Recurrent Neural Network model and training it."
   ]
  },
  {
   "cell_type": "code",
   "execution_count": null,
   "metadata": {},
   "outputs": [],
   "source": [
    "rev_max_len = 80    # Maximal length of a sequence that can be feed to neural network\n",
    "\n",
    "model_v1 = tf.keras.models.Sequential([\n",
    "    tf.keras.layers.Embedding(rev_max_words, 128, input_length=rev_max_len),\n",
    "    tf.keras.layers.GRU(64, recurrent_dropout=0.2, dropout=0.2),\n",
    "    tf.keras.layers.Dense(NUMBER_OF_CLASSES, activation='softmax')\n",
    "])\n",
    "\n",
    "model_v1.compile(optimizer='rmsprop', loss='categorical_crossentropy', metrics=['acc'])"
   ]
  },
  {
   "cell_type": "code",
   "execution_count": null,
   "metadata": {},
   "outputs": [],
   "source": [
    "model_v1.summary()"
   ]
  },
  {
   "cell_type": "code",
   "execution_count": null,
   "metadata": {},
   "outputs": [],
   "source": [
    "def tensorboard_callback(log_dir):\n",
    "    '''Returns keras.callback object to save tensorboard parameter of trained model.\n",
    "\n",
    "            Parameters:\n",
    "            log_dir (str): path to a directory in which we will store information.\n",
    "\n",
    "            Returns:\n",
    "            (list of tensorflow.keras.callbacks): list object containg one callback that can be directly use while training.\n",
    "    '''\n",
    "    return [tf.keras.callbacks.TensorBoard(\n",
    "                                    log_dir=log_dir,\n",
    "                                    histogram_freq=1,\n",
    "                                    embeddings_freq=1)]"
   ]
  },
  {
   "cell_type": "code",
   "execution_count": null,
   "metadata": {},
   "outputs": [],
   "source": [
    "data_gen = first_pipeline(TRAIN_DATA_PATH, maxlen=max_len, batch_size=256)\n",
    "val_gen = first_pipeline(TRAIN_DATA_PATH, maxlen=max_len, batch_size=256, start_idx=2 * 10^6)\n",
    "\n",
    "history = model_v1.fit(data_gen, steps_per_epoch=1000,\n",
    "                       epochs=10, \n",
    "                       validation_data=val_gen,\n",
    "                       validation_steps=500,\n",
    "                       callbacks=tensorboard_callback('best_sequential_rev_model'))"
   ]
  },
  {
   "cell_type": "markdown",
   "metadata": {},
   "source": [
    "#### Plots of loss function and accuracy parameters with respect to epoch."
   ]
  },
  {
   "cell_type": "code",
   "execution_count": null,
   "metadata": {},
   "outputs": [],
   "source": [
    "def plot_accuracy(history):\n",
    "    '''Plots training and validation accuracy obtained in training process.\n",
    "\n",
    "            Parameters:\n",
    "            history (tensorflow.python.keras.callbacks.History): history of training.\n",
    "\n",
    "            Returns:\n",
    "            matplotlib plot of accuracies with respect to epoch.\n",
    "    '''\n",
    "    hist_dict = history.history\n",
    "    train_acc = hist_dict['acc']\n",
    "    val_acc = hist_dict['val_acc']\n",
    "\n",
    "    epochs = np.arange(1, 41)\n",
    "\n",
    "    plt.plot(epochs, train_acc, 'bo', label='Train accuracy')\n",
    "    plt.plot(epochs, val_acc, 'r-', label='Validation accuracy')\n",
    "    plt.grid()\n",
    "    plt.legend(loc='best')"
   ]
  },
  {
   "cell_type": "code",
   "execution_count": null,
   "metadata": {},
   "outputs": [],
   "source": [
    "def plot_loss(history):\n",
    "    '''Plots training and validation losses obtained in training process.\n",
    "\n",
    "            Parameters:\n",
    "            history (tensorflow.python.keras.callbacks.History): history of training.\n",
    "\n",
    "            Returns:\n",
    "            matplotlib plot of accuracies with respect to epoch.\n",
    "    '''\n",
    "    hist_dict = history.history\n",
    "    train_loss = hist_dict['loss']\n",
    "    val_loss = hist_dict['val_loss']\n",
    "\n",
    "    plt.plot(epochs, train_loss, 'bo', label='Train loss')\n",
    "    plt.plot(epochs, val_loss, 'r-', label='Validation loss')\n",
    "    plt.grid()\n",
    "    plt.legend(loc='best')"
   ]
  },
  {
   "cell_type": "code",
   "execution_count": null,
   "metadata": {},
   "outputs": [],
   "source": [
    "plot_accuracy(history)"
   ]
  },
  {
   "cell_type": "code",
   "execution_count": null,
   "metadata": {},
   "outputs": [],
   "source": [
    "plot_loss(history)"
   ]
  },
  {
   "cell_type": "markdown",
   "metadata": {},
   "source": [
    "#### Saving best Sequential model of RNN obtain."
   ]
  },
  {
   "cell_type": "code",
   "execution_count": null,
   "metadata": {},
   "outputs": [],
   "source": [
    "model_v1.save('best_sequential_model.h5')"
   ]
  },
  {
   "cell_type": "markdown",
   "metadata": {},
   "source": [
    "### Step 3: Test Model on New Reviews"
   ]
  },
  {
   "cell_type": "code",
   "execution_count": null,
   "metadata": {},
   "outputs": [],
   "source": [
    "test_gen = first_pipeline(TEST_DATA_PATH, maxlen=rev_max_len, batch_size=int(test_samples/1000))\n",
    "\n",
    "model_v1.evaluate(test_gen, steps=1000)"
   ]
  },
  {
   "cell_type": "markdown",
   "metadata": {},
   "source": [
    "### Step 4: Summary"
   ]
  },
  {
   "cell_type": "code",
   "execution_count": null,
   "metadata": {},
   "outputs": [],
   "source": [
    "from tensorflow.keras.utils import plot_model\n",
    "\n",
    "plot_model(model_v1)"
   ]
  },
  {
   "cell_type": "markdown",
   "metadata": {},
   "source": [
    "## Design sequential architecture that takes review as an input and outputs sentiment.\n",
    "\n",
    "### Step 1: Preparing data pipeline for new architecture"
   ]
  },
  {
   "cell_type": "code",
   "execution_count": null,
   "metadata": {},
   "outputs": [],
   "source": [
    "from tensorflow.keras.preprocessing.text import Tokenizer\n",
    "\n",
    "title_max_words = 10000\n",
    "\n",
    "title_tokenizer = Tokenizer(num_words=title_max_words)\n",
    "title_gen = flow_from_csv(path=TRAIN_DATA_PATH, col_idx=TITLE_IDX)\n",
    "\n",
    "title_tokenizer.fit_on_texts(title_gen)"
   ]
  },
  {
   "cell_type": "code",
   "execution_count": null,
   "metadata": {},
   "outputs": [],
   "source": [
    "def second_pipeline(path, rev_maxlen, title_maxlen, batch_size=1, start_idx=0):\n",
    "    '''Produces generator that will be used to train neural network.\n",
    "\n",
    "            Parameters:\n",
    "            path (str): file system path to a csv file with data samples.\n",
    "\n",
    "            Returns:\n",
    "            generator: generator that returns tuple([list_of_reviews, list_of_titles], list_of_outputs).\n",
    "    '''\n",
    "    csv_file = open(path, 'r', errors='ignore')\n",
    "    reader = csv.reader(csv_file)\n",
    "\n",
    "    readed_cnt = start_idx\n",
    "    skip_rows(reader, start_idx)\n",
    "\n",
    "    while True:\n",
    "        reviews = []\n",
    "        titles = []\n",
    "        ratings = []\n",
    "\n",
    "        for _ in range(batch_size):\n",
    "            row = next(reader)\n",
    "            # Extracts ratings\n",
    "            rating = row[RATING_IDX]\n",
    "            rating_class = rating2class[rating]\n",
    "            ratings.append(rating_class)\n",
    "\n",
    "            # Extracts and clears reviews\n",
    "            review = prepare_text(row[REVIEW_IDX])\n",
    "            reviews.append(review)\n",
    "            \n",
    "            # Extracts and clears titles\n",
    "            title = prepare_text(row[TITLE_IDX])\n",
    "            titles.append(title)\n",
    "\n",
    "            readed_cnt += 1\n",
    "\n",
    "        # Tokenizes and pads sequences of review\n",
    "        reviews = rev_tokenizer.texts_to_sequences(reviews)\n",
    "        reviews = pad_sequences(reviews, maxlen=rev_maxlen)\n",
    "        \n",
    "        # Tokenizes and pads sequences of titles\n",
    "        titles = title_tokenizer.texts_to_sequences(titles)\n",
    "        titles = pad_sequences(titles, maxlen=title_maxlen)\n",
    "        \n",
    "        # Converts input to binary class matrix\n",
    "        ratings = to_categorical(ratings, num_classes=NUMBER_OF_CLASSES, dtype='uint8')\n",
    "            \n",
    "        yield [reviews, titles], ratings, [None]\n",
    "            \n",
    "        # Provides infinite data generation\n",
    "        if readed_cnt + batch_size >= train_samples - 1:\n",
    "            csv_file.close()\n",
    "            csv_file = open(path, 'r', errors='ignore')\n",
    "            reader = csv.reader(csv_file)\n",
    "            readed_cnt = start_idx\n",
    "            # Skips first start_idx rows\n",
    "            skip_rows(reader, start_idx)"
   ]
  },
  {
   "cell_type": "markdown",
   "metadata": {},
   "source": [
    "### Step 2: Design & Validate an RNN muliple inputs architecture"
   ]
  },
  {
   "cell_type": "code",
   "execution_count": null,
   "metadata": {},
   "outputs": [],
   "source": [
    "from tensorflow.keras.models import Model\n",
    "from tensorflow.keras import layers\n",
    "\n",
    "rev_max_len = 100\n",
    "title_max_len = 20\n",
    "\n",
    "# Constructing new architecture of RNN that take two separate inputs (review and title)\n",
    "review_input_layer = layers.Input(shape=(rev_max_len,), dtype='int32', name='review_input')\n",
    "embedded_review = layers.Embedding(rev_max_words, 128, input_length=rev_max_len)(review_input_layer)\n",
    "review_lstm = layers.LSTM(128, recurrent_dropout=0.4, dropout=0.4)(embedded_review)\n",
    "\n",
    "title_input_layer = layers.Input(shape=(title_max_len,), dtype='int32', name='title_input')\n",
    "embedded_title = layers.Embedding(title_max_words, 16, input_length=rev_max_len)(title_input_layer)\n",
    "title_lstm = layers.LSTM(16, recurrent_dropout=0.2, dropout=0.2)(embedded_title)\n",
    "\n",
    "# Concatenating layers\n",
    "concatenated_layer = layers.concatenate([review_lstm, title_lstm], axis=-1)\n",
    "output_layer = layers.Dense(NUMBER_OF_CLASSES, activation='softmax')(concatenated_layer)\n",
    "\n",
    "model_v2 = Model([review_input_layer, title_input_layer], output_layer)"
   ]
  },
  {
   "cell_type": "code",
   "execution_count": null,
   "metadata": {},
   "outputs": [],
   "source": [
    "model_v2.compile(optimizer='rmsprop', loss='categorical_crossentropy', metrics=['acc'])"
   ]
  },
  {
   "cell_type": "code",
   "execution_count": null,
   "metadata": {},
   "outputs": [],
   "source": [
    "model_v2.summary()"
   ]
  },
  {
   "cell_type": "code",
   "execution_count": null,
   "metadata": {},
   "outputs": [],
   "source": [
    "data_gen = second_pipeline(TRAIN_DATA_PATH, rev_max_len, title_max_len, batch_size=256)\n",
    "val_gen = second_pipeline(TRAIN_DATA_PATH, rev_max_len, title_max_len, batch_size=256, start_idx=2*10^6)\n",
    "\n",
    "history = model_v2.fit(data_gen, steps_per_epoch=1000,\n",
    "                       epochs=10,\n",
    "                       validation_data=val_gen,\n",
    "                       validation_steps=500,\n",
    "                       callbacks=tensorboard_callback('best_multiple_input_model'))"
   ]
  },
  {
   "cell_type": "code",
   "execution_count": null,
   "metadata": {},
   "outputs": [],
   "source": [
    "plot_accuracy(history)"
   ]
  },
  {
   "cell_type": "code",
   "execution_count": null,
   "metadata": {},
   "outputs": [],
   "source": [
    "plot_loss(history)"
   ]
  },
  {
   "cell_type": "code",
   "execution_count": null,
   "metadata": {},
   "outputs": [],
   "source": [
    "model_v2.save('multiply_input_model.h5')"
   ]
  },
  {
   "cell_type": "markdown",
   "metadata": {},
   "source": [
    "### Step 3: Test obtain model on new data"
   ]
  },
  {
   "cell_type": "code",
   "execution_count": null,
   "metadata": {},
   "outputs": [],
   "source": [
    "test_gen = second_pipeline(TEST_DATA_PATH, rev_max_len, title_max_len, batch_size=int(test_samples/1000))\n",
    "\n",
    "model_v2.evaluate(test_gen, steps=1000)"
   ]
  },
  {
   "cell_type": "markdown",
   "metadata": {},
   "source": [
    "### Step 4: Summary"
   ]
  },
  {
   "cell_type": "code",
   "execution_count": null,
   "metadata": {},
   "outputs": [],
   "source": [
    "from tensorflow.keras.utils import plot_model\n",
    "\n",
    "plot_model(model_v2)"
   ]
  },
  {
   "cell_type": "markdown",
   "metadata": {},
   "source": [
    "## Design sequential architecture that takes title as an input and outputs sentiment.\n",
    "\n",
    "### Step 1: Preparing data pipeline for new architecture"
   ]
  },
  {
   "cell_type": "code",
   "execution_count": null,
   "metadata": {},
   "outputs": [],
   "source": [
    "def third_pipeline(path, maxlen, batch_size=1, start_idx=0):\n",
    "    '''Produces generator that will be used to train neural network.\n",
    "\n",
    "            Parameters:\n",
    "            path (str): file system path to a csv file with data samples.\n",
    "\n",
    "            Returns:\n",
    "            generator: generator that returns tuple(list_of_titles, list_of_outputs).\n",
    "    '''\n",
    "    csv_file = open(path, 'r', errors='ignore')\n",
    "    reader = csv.reader(csv_file)\n",
    "\n",
    "    readed_cnt = start_idx\n",
    "    skip_rows(reader, start_idx)\n",
    "\n",
    "    while True:\n",
    "        titles = []\n",
    "        ratings = []\n",
    "\n",
    "        for _ in range(batch_size):\n",
    "            row = next(reader)\n",
    "            # Extracts ratings\n",
    "            rating = row[RATING_IDX]\n",
    "            rating_class = rating2class[rating]\n",
    "            ratings.append(rating_class)\n",
    "\n",
    "            # Extracts and clears titles\n",
    "            title = prepare_text(row[TITLE_IDX])\n",
    "            titles.append(title)\n",
    "\n",
    "            readed_cnt += 1\n",
    "\n",
    "        # Tokenizes and pads sequences\n",
    "        titles = title_tokenizer.texts_to_sequences(titles)\n",
    "        titles = pad_sequences(titles, maxlen=maxlen)\n",
    "        \n",
    "        # Converts input to binary class matrix\n",
    "        ratings = to_categorical(ratings, num_classes=NUMBER_OF_CLASSES, dtype='uint8')\n",
    "            \n",
    "        yield titles, ratings, [None]\n",
    "            \n",
    "        # Provides infinite data generation\n",
    "        if readed_cnt + batch_size >= train_samples - 1:\n",
    "            csv_file.close()\n",
    "            csv_file = open(path, 'r', errors='ignore')\n",
    "            reader = csv.reader(csv_file)\n",
    "            readed_cnt = start_idx\n",
    "            # Skips first start_idx rows\n",
    "            skip_rows(reader, start_idx)"
   ]
  },
  {
   "cell_type": "markdown",
   "metadata": {},
   "source": [
    "### Step 2: Design & Validate new architecture"
   ]
  },
  {
   "cell_type": "code",
   "execution_count": null,
   "metadata": {},
   "outputs": [],
   "source": [
    "model_v3 = tf.keras.models.Sequential([\n",
    "    tf.keras.layers.Embedding(title_max_words, 128, input_length=title_max_len),\n",
    "    tf.keras.layers.LSTM(16, recurrent_dropout=0.2, dropout=0.2),\n",
    "    tf.keras.layers.Dense(3, activation='softmax')\n",
    "])\n",
    "\n",
    "model_v3.compile(optimizer='rmsprop', loss='categorical_crossentropy', metrics=['acc'])"
   ]
  },
  {
   "cell_type": "code",
   "execution_count": null,
   "metadata": {},
   "outputs": [],
   "source": [
    "model_v3.summary()"
   ]
  },
  {
   "cell_type": "code",
   "execution_count": null,
   "metadata": {},
   "outputs": [],
   "source": [
    "data_gen = third_pipeline(TRAIN_DATA_PATH, title_max_len, batch_size=256)\n",
    "val_gen = third_pipeline(TRAIN_DATA_PATH, title_max_len, batch_size=256, start_idx=2*10^6)\n",
    "\n",
    "history = model_v3.fit(data_gen, steps_per_epoch=1000,\n",
    "                       epochs=10,\n",
    "                       validation_data=val_gen,\n",
    "                       validation_steps=500,\n",
    "                       callbacks=tensorboard_callback('best_sequential_title_model'))"
   ]
  },
  {
   "cell_type": "code",
   "execution_count": null,
   "metadata": {},
   "outputs": [],
   "source": [
    "model_v3.save('best_sequential_title_model.h5')"
   ]
  },
  {
   "cell_type": "markdown",
   "metadata": {},
   "source": [
    "### Step 3: Test obtain model on new data"
   ]
  },
  {
   "cell_type": "code",
   "execution_count": null,
   "metadata": {},
   "outputs": [],
   "source": [
    "test_gen = third_pipeline(TEST_DATA_PATH, title_max_len, batch_size=int(test_samples/1000))\n",
    "\n",
    "model_v3.evaluate(test_gen, steps=1000)"
   ]
  },
  {
   "cell_type": "markdown",
   "metadata": {},
   "source": [
    "### Step 4: Summary"
   ]
  },
  {
   "cell_type": "code",
   "execution_count": null,
   "metadata": {},
   "outputs": [],
   "source": [
    "from tensorflow.keras.utils import plot_model\n",
    "\n",
    "plot_model(model_v3)"
   ]
  }
 ],
 "metadata": {
  "kernelspec": {
   "display_name": "Python 3",
   "language": "python",
   "name": "python3"
  },
  "language_info": {
   "codemirror_mode": {
    "name": "ipython",
    "version": 3
   },
   "file_extension": ".py",
   "mimetype": "text/x-python",
   "name": "python",
   "nbconvert_exporter": "python",
   "pygments_lexer": "ipython3",
   "version": "3.7.4"
  }
 },
 "nbformat": 4,
 "nbformat_minor": 2
}
